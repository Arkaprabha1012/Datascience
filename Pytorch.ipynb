{
  "nbformat": 4,
  "nbformat_minor": 0,
  "metadata": {
    "colab": {
      "name": "Pytorch.ipynb",
      "provenance": [],
      "collapsed_sections": [],
      "authorship_tag": "ABX9TyNcf6TlNWjqiXnDspND7p19",
      "include_colab_link": true
    },
    "kernelspec": {
      "name": "python3",
      "display_name": "Python 3"
    },
    "accelerator": "GPU"
  },
  "cells": [
    {
      "cell_type": "markdown",
      "metadata": {
        "id": "view-in-github",
        "colab_type": "text"
      },
      "source": [
        "<a href=\"https://colab.research.google.com/github/Arkaprabha1012/Datascience/blob/master/Pytorch.ipynb\" target=\"_parent\"><img src=\"https://colab.research.google.com/assets/colab-badge.svg\" alt=\"Open In Colab\"/></a>"
      ]
    },
    {
      "cell_type": "code",
      "metadata": {
        "id": "N0KdRG0EjGyA"
      },
      "source": [
        "import torch"
      ],
      "execution_count": null,
      "outputs": []
    },
    {
      "cell_type": "code",
      "metadata": {
        "colab": {
          "base_uri": "https://localhost:8080/"
        },
        "id": "9ph6ZP1IjgnN",
        "outputId": "85fb2cf7-93e8-44ea-d126-02a8ce9b61b3"
      },
      "source": [
        "#value\n",
        "t1=torch.tensor(4.)\n",
        "t1"
      ],
      "execution_count": null,
      "outputs": [
        {
          "output_type": "execute_result",
          "data": {
            "text/plain": [
              "tensor(4.)"
            ]
          },
          "metadata": {
            "tags": []
          },
          "execution_count": 2
        }
      ]
    },
    {
      "cell_type": "code",
      "metadata": {
        "colab": {
          "base_uri": "https://localhost:8080/"
        },
        "id": "kMR-GDmakHfr",
        "outputId": "a8d5478e-531f-4f34-da50-2f81cb90ae62"
      },
      "source": [
        "t1.dtype"
      ],
      "execution_count": null,
      "outputs": [
        {
          "output_type": "execute_result",
          "data": {
            "text/plain": [
              "torch.float32"
            ]
          },
          "metadata": {
            "tags": []
          },
          "execution_count": 3
        }
      ]
    },
    {
      "cell_type": "code",
      "metadata": {
        "colab": {
          "base_uri": "https://localhost:8080/"
        },
        "id": "lMUQCWM5kS0F",
        "outputId": "b4fca9fa-f7b0-4d7f-deac-eee521539d4d"
      },
      "source": [
        "#vector\n",
        "t2=torch.tensor([1.,2,3,4])\n",
        "t2"
      ],
      "execution_count": null,
      "outputs": [
        {
          "output_type": "execute_result",
          "data": {
            "text/plain": [
              "tensor([1., 2., 3., 4.])"
            ]
          },
          "metadata": {
            "tags": []
          },
          "execution_count": 4
        }
      ]
    },
    {
      "cell_type": "code",
      "metadata": {
        "colab": {
          "base_uri": "https://localhost:8080/"
        },
        "id": "n_nVcRedkhai",
        "outputId": "60635ac2-c388-4698-dded-8bbbcd4a0a03"
      },
      "source": [
        "#matrix\n",
        "t3=torch.tensor([[1,2],[3,4],[5,6],[7,8]])\n",
        "t3"
      ],
      "execution_count": null,
      "outputs": [
        {
          "output_type": "execute_result",
          "data": {
            "text/plain": [
              "tensor([[1, 2],\n",
              "        [3, 4],\n",
              "        [5, 6],\n",
              "        [7, 8]])"
            ]
          },
          "metadata": {
            "tags": []
          },
          "execution_count": 5
        }
      ]
    },
    {
      "cell_type": "code",
      "metadata": {
        "colab": {
          "base_uri": "https://localhost:8080/"
        },
        "id": "dvi-sJDplCsq",
        "outputId": "48e3547a-c637-4a42-e700-6db9788ca96b"
      },
      "source": [
        "#3 dimensional array\n",
        "t4=torch.tensor([[[11,12,23],[89,43,78]],[[15,16,12],[54,65,76]]])\n",
        "t4"
      ],
      "execution_count": null,
      "outputs": [
        {
          "output_type": "execute_result",
          "data": {
            "text/plain": [
              "tensor([[[11, 12, 23],\n",
              "         [89, 43, 78]],\n",
              "\n",
              "        [[15, 16, 12],\n",
              "         [54, 65, 76]]])"
            ]
          },
          "metadata": {
            "tags": []
          },
          "execution_count": 6
        }
      ]
    },
    {
      "cell_type": "code",
      "metadata": {
        "colab": {
          "base_uri": "https://localhost:8080/"
        },
        "id": "CfiD8lnFldI2",
        "outputId": "a1c07763-d266-43fa-b336-424a2f485f91"
      },
      "source": [
        "#value\n",
        "t1.shape"
      ],
      "execution_count": null,
      "outputs": [
        {
          "output_type": "execute_result",
          "data": {
            "text/plain": [
              "torch.Size([])"
            ]
          },
          "metadata": {
            "tags": []
          },
          "execution_count": 7
        }
      ]
    },
    {
      "cell_type": "code",
      "metadata": {
        "colab": {
          "base_uri": "https://localhost:8080/"
        },
        "id": "qIMS1APGlva9",
        "outputId": "e951ac3f-5653-4c8f-e507-4b2c77fb9299"
      },
      "source": [
        "#array\n",
        "t2.shape"
      ],
      "execution_count": null,
      "outputs": [
        {
          "output_type": "execute_result",
          "data": {
            "text/plain": [
              "torch.Size([4])"
            ]
          },
          "metadata": {
            "tags": []
          },
          "execution_count": 8
        }
      ]
    },
    {
      "cell_type": "code",
      "metadata": {
        "colab": {
          "base_uri": "https://localhost:8080/"
        },
        "id": "OjJaUJtflwfz",
        "outputId": "a9a30a82-177d-4d0d-b3ed-566a06998d66"
      },
      "source": [
        "#matrix\n",
        "t3.shape"
      ],
      "execution_count": null,
      "outputs": [
        {
          "output_type": "execute_result",
          "data": {
            "text/plain": [
              "torch.Size([4, 2])"
            ]
          },
          "metadata": {
            "tags": []
          },
          "execution_count": 9
        }
      ]
    },
    {
      "cell_type": "code",
      "metadata": {
        "colab": {
          "base_uri": "https://localhost:8080/"
        },
        "id": "86-KUC5ulyku",
        "outputId": "27743c7f-a27e-46a7-a338-6480348350d0"
      },
      "source": [
        "#3d matrix\n",
        "t4.shape"
      ],
      "execution_count": null,
      "outputs": [
        {
          "output_type": "execute_result",
          "data": {
            "text/plain": [
              "torch.Size([2, 2, 3])"
            ]
          },
          "metadata": {
            "tags": []
          },
          "execution_count": 10
        }
      ]
    },
    {
      "cell_type": "code",
      "metadata": {
        "id": "YMbZJ91ul0Q0"
      },
      "source": [
        "##TENSOR OPERATIONS AND GRADIENTS"
      ],
      "execution_count": null,
      "outputs": []
    },
    {
      "cell_type": "code",
      "metadata": {
        "id": "1xpgL-NvmZjy"
      },
      "source": [
        "x=torch.tensor(3.)\n",
        "w=torch.tensor(4.,requires_grad=True)\n",
        "b=torch.tensor(5.,requires_grad=True)"
      ],
      "execution_count": null,
      "outputs": []
    },
    {
      "cell_type": "code",
      "metadata": {
        "colab": {
          "base_uri": "https://localhost:8080/"
        },
        "id": "P9itcQQSnJRJ",
        "outputId": "d4bfc87a-baf9-4e81-88c4-3c83849c180c"
      },
      "source": [
        "y=w*x+b\n",
        "y"
      ],
      "execution_count": null,
      "outputs": [
        {
          "output_type": "execute_result",
          "data": {
            "text/plain": [
              "tensor(17., grad_fn=<AddBackward0>)"
            ]
          },
          "metadata": {
            "tags": []
          },
          "execution_count": 32
        }
      ]
    },
    {
      "cell_type": "code",
      "metadata": {
        "id": "hytEm6JSnMEH"
      },
      "source": [
        "#computer derivatives\n",
        "y.backward()"
      ],
      "execution_count": null,
      "outputs": []
    },
    {
      "cell_type": "code",
      "metadata": {
        "colab": {
          "base_uri": "https://localhost:8080/"
        },
        "id": "AKVakajmogDZ",
        "outputId": "b542aa97-3beb-4f17-e07f-d9083f782829"
      },
      "source": [
        "print('dy/dx:',x.grad)\n",
        "print('dy/dw:',w.grad)\n",
        "print('dy/db:',b.grad)"
      ],
      "execution_count": null,
      "outputs": [
        {
          "output_type": "stream",
          "text": [
            "dy/dx: None\n",
            "dy/dw: tensor(3.)\n",
            "dy/db: tensor(1.)\n"
          ],
          "name": "stdout"
        }
      ]
    },
    {
      "cell_type": "code",
      "metadata": {
        "id": "b81Ns40Cotix"
      },
      "source": [
        "#WITH NUMPY,MATPLOTLIB,OPENCV,PANDAS"
      ],
      "execution_count": null,
      "outputs": []
    },
    {
      "cell_type": "code",
      "metadata": {
        "colab": {
          "base_uri": "https://localhost:8080/"
        },
        "id": "HJK4G0kgpotA",
        "outputId": "9a5f7119-7d3b-4bbe-f222-76838681f845"
      },
      "source": [
        "import numpy as np\n",
        "x=np.array([[1,2],[3.,4]])\n",
        "x"
      ],
      "execution_count": null,
      "outputs": [
        {
          "output_type": "execute_result",
          "data": {
            "text/plain": [
              "array([[1., 2.],\n",
              "       [3., 4.]])"
            ]
          },
          "metadata": {
            "tags": []
          },
          "execution_count": 17
        }
      ]
    },
    {
      "cell_type": "code",
      "metadata": {
        "colab": {
          "base_uri": "https://localhost:8080/"
        },
        "id": "xyUV-4Vipvpm",
        "outputId": "8e323459-2799-4dfc-e9e6-38f3a6935579"
      },
      "source": [
        "#Creating torch tensor from numpy\n",
        "y=torch.tensor(x)\n",
        "y"
      ],
      "execution_count": null,
      "outputs": [
        {
          "output_type": "execute_result",
          "data": {
            "text/plain": [
              "tensor([[1., 2.],\n",
              "        [3., 4.]], dtype=torch.float64)"
            ]
          },
          "metadata": {
            "tags": []
          },
          "execution_count": 18
        }
      ]
    },
    {
      "cell_type": "code",
      "metadata": {
        "colab": {
          "base_uri": "https://localhost:8080/"
        },
        "id": "3mq_a4SEqBFt",
        "outputId": "03481acd-5dc4-424e-b0c5-91d40f15d3ca"
      },
      "source": [
        "x.dtype,y.dtype"
      ],
      "execution_count": null,
      "outputs": [
        {
          "output_type": "execute_result",
          "data": {
            "text/plain": [
              "(dtype('float64'), torch.float64)"
            ]
          },
          "metadata": {
            "tags": []
          },
          "execution_count": 19
        }
      ]
    },
    {
      "cell_type": "code",
      "metadata": {
        "colab": {
          "base_uri": "https://localhost:8080/"
        },
        "id": "IvKOWV6yqOAC",
        "outputId": "805201a5-71c1-474d-d185-f2e2f0b27d42"
      },
      "source": [
        "#Tensor to numpy\n",
        "z=y.numpy()\n",
        "z"
      ],
      "execution_count": null,
      "outputs": [
        {
          "output_type": "execute_result",
          "data": {
            "text/plain": [
              "array([[1., 2.],\n",
              "       [3., 4.]])"
            ]
          },
          "metadata": {
            "tags": []
          },
          "execution_count": 23
        }
      ]
    },
    {
      "cell_type": "code",
      "metadata": {
        "id": "4fCjJjLzxYp5"
      },
      "source": [
        "import numpy as np\n",
        "import torch"
      ],
      "execution_count": 1,
      "outputs": []
    },
    {
      "cell_type": "code",
      "metadata": {
        "id": "hYl2PMrp6wht"
      },
      "source": [
        "#input temp raifall humidity\n",
        "inputs=np.array([[73,67,43],\n",
        "                 [91,88,64],\n",
        "                 [87,134,58],\n",
        "                 [102,43,37],\n",
        "                 [69,96,70]],dtype='float32')\n",
        "#input taget variables (apples,oranges)\n",
        "targets=np.array([[56,70],\n",
        "                  [81,101],\n",
        "                  [119,133],\n",
        "                  [22,37],\n",
        "                  [103,119]],dtype='float32')"
      ],
      "execution_count": 4,
      "outputs": []
    },
    {
      "cell_type": "code",
      "metadata": {
        "colab": {
          "base_uri": "https://localhost:8080/"
        },
        "id": "iq47pi_zAQr0",
        "outputId": "f6749a0b-b695-418f-c386-679495d904a7"
      },
      "source": [
        "inputs=torch.from_numpy(inputs)\n",
        "targets=torch.from_numpy(targets)\n",
        "print(inputs,\"\\n\",targets)"
      ],
      "execution_count": 5,
      "outputs": [
        {
          "output_type": "stream",
          "text": [
            "tensor([[ 73.,  67.,  43.],\n",
            "        [ 91.,  88.,  64.],\n",
            "        [ 87., 134.,  58.],\n",
            "        [102.,  43.,  37.],\n",
            "        [ 69.,  96.,  70.]]) \n",
            " tensor([[ 56.,  70.],\n",
            "        [ 81., 101.],\n",
            "        [119., 133.],\n",
            "        [ 22.,  37.],\n",
            "        [103., 119.]])\n"
          ],
          "name": "stdout"
        }
      ]
    },
    {
      "cell_type": "code",
      "metadata": {
        "id": "2z5-BkjsA0fN"
      },
      "source": [
        ""
      ],
      "execution_count": null,
      "outputs": []
    },
    {
      "cell_type": "markdown",
      "metadata": {
        "id": "Dl-z4HSbA6Ru"
      },
      "source": [
        "### **LINEAR REGRESSION USING GRADIENT DESCENT**"
      ]
    },
    {
      "cell_type": "markdown",
      "metadata": {
        "id": "xlL4WZYyBGae"
      },
      "source": [
        "yield_apple=w11*temp+w12*rainfall+w13*humidity+b1\n",
        "\n",
        "yield_orange=w21*temp+w22*rainfall+w23*humidity+b2"
      ]
    },
    {
      "cell_type": "code",
      "metadata": {
        "colab": {
          "base_uri": "https://localhost:8080/"
        },
        "id": "ayoLiZObBBZh",
        "outputId": "2281aa25-64f6-47fd-8813-449d2d436f51"
      },
      "source": [
        "w=torch.randn(2,3,requires_grad=True)#WE HAVE THREE INPUT AND TWO TARGETS\n",
        "b=torch.randn(2,requires_grad=True)\n",
        "print(w)\n",
        "print(b)"
      ],
      "execution_count": 31,
      "outputs": [
        {
          "output_type": "stream",
          "text": [
            "tensor([[ 0.0099,  1.0852,  1.6666],\n",
            "        [ 0.0430, -0.8863, -0.4078]], requires_grad=True)\n",
            "tensor([-0.8850, -1.3959], requires_grad=True)\n"
          ],
          "name": "stdout"
        }
      ]
    },
    {
      "cell_type": "markdown",
      "metadata": {
        "id": "ceIr_FdWCUqG"
      },
      "source": [
        "X  x WT(Transpos of W) + b"
      ]
    },
    {
      "cell_type": "code",
      "metadata": {
        "id": "KYXlVhpcB5SX"
      },
      "source": [
        "def model(x):\n",
        "  return x @ w.t() + b\n",
        "#@ means matrix multiplication in PYTORCH .t is for transpos"
      ],
      "execution_count": 32,
      "outputs": []
    },
    {
      "cell_type": "code",
      "metadata": {
        "colab": {
          "base_uri": "https://localhost:8080/"
        },
        "id": "rIfsdgjICtvM",
        "outputId": "d0930855-aaa0-4034-82e8-b6a326245c1a"
      },
      "source": [
        "preds=model(inputs)\n",
        "preds"
      ],
      "execution_count": 33,
      "outputs": [
        {
          "output_type": "execute_result",
          "data": {
            "text/plain": [
              "tensor([[ 144.2041,  -75.1754],\n",
              "        [ 202.1684, -101.5777],\n",
              "        [ 242.0468, -140.0743],\n",
              "        [ 108.4466,  -50.2095],\n",
              "        [ 220.6323, -112.0612]], grad_fn=<AddBackward0>)"
            ]
          },
          "metadata": {
            "tags": []
          },
          "execution_count": 33
        }
      ]
    },
    {
      "cell_type": "code",
      "metadata": {
        "colab": {
          "base_uri": "https://localhost:8080/"
        },
        "id": "QekZNBf7DIqW",
        "outputId": "391f39b3-f00b-4ef2-dd31-ef1d70a63983"
      },
      "source": [
        "print(targets)"
      ],
      "execution_count": 34,
      "outputs": [
        {
          "output_type": "stream",
          "text": [
            "tensor([[ 56.,  70.],\n",
            "        [ 81., 101.],\n",
            "        [119., 133.],\n",
            "        [ 22.,  37.],\n",
            "        [103., 119.]])\n"
          ],
          "name": "stdout"
        }
      ]
    },
    {
      "cell_type": "markdown",
      "metadata": {
        "id": "cK2BJteoDawH"
      },
      "source": [
        "LOSS FUNCTION"
      ]
    },
    {
      "cell_type": "code",
      "metadata": {
        "id": "Rf8BlM5IDc9Q"
      },
      "source": [
        "#MSE(Mean Squared Error) LOSS \n",
        "def mse(t1,t2):\n",
        "  diff=t1-t2\n",
        "  return torch.sum(diff*diff)/diff.numel()"
      ],
      "execution_count": 35,
      "outputs": []
    },
    {
      "cell_type": "code",
      "metadata": {
        "colab": {
          "base_uri": "https://localhost:8080/"
        },
        "id": "mD2vmWTzEFbp",
        "outputId": "cec39ec6-90de-48bf-f9f4-2e2c332bcaa7"
      },
      "source": [
        "loss=mse(preds,targets)\n",
        "print(loss)"
      ],
      "execution_count": 36,
      "outputs": [
        {
          "output_type": "stream",
          "text": [
            "tensor(25659.0547, grad_fn=<DivBackward0>)\n"
          ],
          "name": "stdout"
        }
      ]
    },
    {
      "cell_type": "markdown",
      "metadata": {
        "id": "Z_71bzmUEZEa"
      },
      "source": [
        "### COMPUTE GRADIENTS"
      ]
    },
    {
      "cell_type": "code",
      "metadata": {
        "id": "zBokr1FyEbYj"
      },
      "source": [
        "loss.backward()"
      ],
      "execution_count": 37,
      "outputs": []
    },
    {
      "cell_type": "code",
      "metadata": {
        "colab": {
          "base_uri": "https://localhost:8080/"
        },
        "id": "vQRt_wYEEhcK",
        "outputId": "4f86a65e-a67a-4ac5-9d07-ab717306fadf"
      },
      "source": [
        "print(w)\n",
        "print(w.grad)"
      ],
      "execution_count": 38,
      "outputs": [
        {
          "output_type": "stream",
          "text": [
            "tensor([[ 0.0099,  1.0852,  1.6666],\n",
            "        [ 0.0430, -0.8863, -0.4078]], requires_grad=True)\n",
            "tensor([[  9020.8945,   9614.1328,   6023.4102],\n",
            "        [-15525.6846, -18015.4844, -10889.3711]])\n"
          ],
          "name": "stdout"
        }
      ]
    },
    {
      "cell_type": "code",
      "metadata": {
        "colab": {
          "base_uri": "https://localhost:8080/"
        },
        "id": "g_1ofJkEElQg",
        "outputId": "d9ffa1e7-b55a-4068-f582-72eef743dbc8"
      },
      "source": [
        "print(b)\n",
        "print(b.grad)"
      ],
      "execution_count": 39,
      "outputs": [
        {
          "output_type": "stream",
          "text": [
            "tensor([-0.8850, -1.3959], requires_grad=True)\n",
            "tensor([ 107.2996, -187.8196])\n"
          ],
          "name": "stdout"
        }
      ]
    },
    {
      "cell_type": "markdown",
      "metadata": {
        "id": "5RF-RpvzHhgP"
      },
      "source": [
        "### GRADIENT DESCENT"
      ]
    },
    {
      "cell_type": "code",
      "metadata": {
        "colab": {
          "base_uri": "https://localhost:8080/",
          "height": 35
        },
        "id": "k9C5OcSzHkKM",
        "outputId": "e952b4a4-ac4e-4a32-980b-15ed789a00b9"
      },
      "source": [
        "'''w.grad.zero_()\n",
        "b.grad.zero_()\n",
        "print(w.grad)\n",
        "print(b.grad)'''"
      ],
      "execution_count": 41,
      "outputs": [
        {
          "output_type": "execute_result",
          "data": {
            "application/vnd.google.colaboratory.intrinsic+json": {
              "type": "string"
            },
            "text/plain": [
              "'w.grad.zero_()\\nb.grad.zero_()\\nprint(w.grad)\\nprint(b.grad)'"
            ]
          },
          "metadata": {
            "tags": []
          },
          "execution_count": 41
        }
      ]
    },
    {
      "cell_type": "code",
      "metadata": {
        "id": "5xa9z9kWH1BZ"
      },
      "source": [
        "with torch.no_grad():\n",
        "  w-=w.grad*1e-5\n",
        "  b-=b.grad*1e-5\n",
        "  w.grad.zero_()\n",
        "  b.grad.zero_()"
      ],
      "execution_count": 45,
      "outputs": []
    },
    {
      "cell_type": "code",
      "metadata": {
        "colab": {
          "base_uri": "https://localhost:8080/"
        },
        "id": "uvtkWrMGI05Z",
        "outputId": "7f9a73fa-2896-486c-bc0e-f482a20e31c2"
      },
      "source": [
        "print(w)\n",
        "print(b)"
      ],
      "execution_count": 46,
      "outputs": [
        {
          "output_type": "stream",
          "text": [
            "tensor([[-0.0803,  0.9890,  1.6064],\n",
            "        [ 0.1983, -0.7062, -0.2989]], requires_grad=True)\n",
            "tensor([-0.8861, -1.3940], requires_grad=True)\n"
          ],
          "name": "stdout"
        }
      ]
    },
    {
      "cell_type": "code",
      "metadata": {
        "colab": {
          "base_uri": "https://localhost:8080/"
        },
        "id": "qmX8DDMvI74a",
        "outputId": "b8d05f92-abd5-4af8-9b4f-1f14d449e0c9"
      },
      "source": [
        "preds=model(inputs)\n",
        "loss=mse(preds,targets)\n",
        "print(loss)"
      ],
      "execution_count": 48,
      "outputs": [
        {
          "output_type": "stream",
          "text": [
            "tensor(17515.9590, grad_fn=<DivBackward0>)\n"
          ],
          "name": "stdout"
        }
      ]
    },
    {
      "cell_type": "code",
      "metadata": {
        "id": "_CsFOe3GJXYG"
      },
      "source": [
        "for i in range(2000):\n",
        "  preds=model(inputs)\n",
        "  loss=mse(preds,targets)\n",
        "  loss.backward()\n",
        "  with torch.no_grad():\n",
        "    w-=w.grad*1e-5  #1e-5 is learning rate\n",
        "    b-=b.grad*1e-5\n",
        "    w.grad.zero_()\n",
        "    b.grad.zero_()"
      ],
      "execution_count": 59,
      "outputs": []
    },
    {
      "cell_type": "code",
      "metadata": {
        "colab": {
          "base_uri": "https://localhost:8080/"
        },
        "id": "Er_69PKpJ9c6",
        "outputId": "1d2a1ebd-f26d-46cf-82c1-04150918755b"
      },
      "source": [
        "#calculate loss\n",
        "preds=model(inputs)\n",
        "loss=mse(preds,targets)\n",
        "print(loss)"
      ],
      "execution_count": 60,
      "outputs": [
        {
          "output_type": "stream",
          "text": [
            "tensor(0.5421, grad_fn=<DivBackward0>)\n"
          ],
          "name": "stdout"
        }
      ]
    },
    {
      "cell_type": "code",
      "metadata": {
        "colab": {
          "base_uri": "https://localhost:8080/"
        },
        "id": "Sy-5VjoaKPXI",
        "outputId": "500207fd-db6e-492c-e94b-be59c64d3ff2"
      },
      "source": [
        "preds"
      ],
      "execution_count": 61,
      "outputs": [
        {
          "output_type": "execute_result",
          "data": {
            "text/plain": [
              "tensor([[ 56.9952,  70.0952],\n",
              "        [ 82.4692, 100.6564],\n",
              "        [118.3668, 133.3290],\n",
              "        [ 21.0022,  37.1378],\n",
              "        [102.2465, 118.7682]], grad_fn=<AddBackward0>)"
            ]
          },
          "metadata": {
            "tags": []
          },
          "execution_count": 61
        }
      ]
    },
    {
      "cell_type": "code",
      "metadata": {
        "colab": {
          "base_uri": "https://localhost:8080/"
        },
        "id": "YQJG238YKVQC",
        "outputId": "b3cdd05a-c42d-4253-eb84-7ec691537063"
      },
      "source": [
        "targets"
      ],
      "execution_count": 62,
      "outputs": [
        {
          "output_type": "execute_result",
          "data": {
            "text/plain": [
              "tensor([[ 56.,  70.],\n",
              "        [ 81., 101.],\n",
              "        [119., 133.],\n",
              "        [ 22.,  37.],\n",
              "        [103., 119.]])"
            ]
          },
          "metadata": {
            "tags": []
          },
          "execution_count": 62
        }
      ]
    },
    {
      "cell_type": "code",
      "metadata": {
        "id": "dxcmhQsfKWmE"
      },
      "source": [
        ""
      ],
      "execution_count": null,
      "outputs": []
    }
  ]
}