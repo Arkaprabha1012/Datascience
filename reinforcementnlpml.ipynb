{
  "nbformat": 4,
  "nbformat_minor": 0,
  "metadata": {
    "colab": {
      "name": "reinforcementnlpml.ipynb",
      "provenance": [],
      "collapsed_sections": [],
      "authorship_tag": "ABX9TyNLK/uTLKvaI63MM2Y8/IMn",
      "include_colab_link": true
    },
    "kernelspec": {
      "name": "python3",
      "display_name": "Python 3"
    }
  },
  "cells": [
    {
      "cell_type": "markdown",
      "metadata": {
        "id": "view-in-github",
        "colab_type": "text"
      },
      "source": [
        "<a href=\"https://colab.research.google.com/github/Arkaprabha1012/Datascience/blob/master/reinforcementnlpml.ipynb\" target=\"_parent\"><img src=\"https://colab.research.google.com/assets/colab-badge.svg\" alt=\"Open In Colab\"/></a>"
      ]
    },
    {
      "cell_type": "code",
      "metadata": {
        "id": "lGHQ_Wkq8FHL",
        "colab_type": "code",
        "colab": {}
      },
      "source": [
        "#APRIORI\n",
        "import numpy as np\n",
        "import matplotlib.pyplot as plt\n",
        "import pandas as pd\n",
        "\n",
        "#Importing the dataset\n",
        "dataset=pd.read_csv(\"Market_Basket_Optimisation.csv\",header=None)\n",
        "#making the total transactions as list\n",
        "transactions=[]\n",
        "for i in range(0,7501):\n",
        "    transactions.append([str(dataset.values[i,j]) for j in range(0,20)])\n",
        "\n",
        "#Train Apriori Model in The dataset\n",
        "'''Product purchased 3 times a day and 7 days so 3*7=21 product \n",
        "purchased and the support will be 21/(total no of transactions)=\n",
        "21/7500=0.0028~0.003  \n",
        "we have set the min_confidence as less as we can give\n",
        "now min_lift ,we set it to 3'''\n",
        "from apyori import apriori\n",
        "rules=apriori(transactions,min_support=0.003,min_confidence=0.2,min_lift=3,min_length=2)\n",
        "\n",
        "#Visualizing the result\n",
        "results=list(rules)"
      ],
      "execution_count": 2,
      "outputs": []
    },
    {
      "cell_type": "code",
      "metadata": {
        "id": "KZvPZCxj8YtW",
        "colab_type": "code",
        "colab": {}
      },
      "source": [
        "#ECLAT\n",
        "import numpy as np\n",
        "import matplotlib.pyplot as plt\n",
        "import pandas as pd\n",
        "\n",
        "#Importing the dataset\n",
        "dataset=pd.read_csv(\"Market_Basket_Optimisation.csv\",header=None)\n",
        "transactions=[]\n",
        "for i in range(0,7501):\n",
        "    transactions.append([str(dataset.values[i,j]) for j in range(0,20)])\n",
        "\n",
        "#NO SKLEARN PACKAGE TO IMPLEMENT ECLAT\n",
        "#THAT IS WHY WE WILL USE mlxtend\n",
        "\n",
        "#Encoding the data\n",
        "from mlxtend.preprocessing import TransactionEncoder\n",
        "te=TransactionEncoder()\n",
        "te_ary=te.fit(transactions).transform(transactions)\n",
        "df_x=pd.DataFrame(te_ary,columns=te.columns_)\n",
        "\n",
        "from mlxtend.frequent_patterns import apriori\n",
        "from mlxtend.frequent_patterns import association_rules\n",
        "df_sets=apriori(df_x,min_support=0.003,use_colnames=True)\n",
        "df_rules=association_rules(df_sets,metric='support',min_threshold=0.003,support_only=True)"
      ],
      "execution_count": 3,
      "outputs": []
    },
    {
      "cell_type": "code",
      "metadata": {
        "id": "KHtwYtxj8iDG",
        "colab_type": "code",
        "colab": {
          "base_uri": "https://localhost:8080/",
          "height": 295
        },
        "outputId": "363dd24a-47fe-4772-9a30-f8636bc3d278"
      },
      "source": [
        "#REINFORCEMENT LEARNING :RANDOM SELECTION\n",
        "import numpy as np\n",
        "import matplotlib.pyplot as plt\n",
        "import pandas as pd\n",
        "\n",
        "dataset=pd.read_csv(\"Ads_CTR_Optimisation.csv\")\n",
        "\n",
        "#implementing random selection\n",
        "import random\n",
        "total_users=10000\n",
        "no_ads=10\n",
        "ads_selected=[]\n",
        "total_reward=0\n",
        "for i in range(0,total_users):\n",
        "    ad=random.randrange(no_ads)\n",
        "    ads_selected.append(ad)\n",
        "    reward=dataset.values[i,ad]\n",
        "    total_reward=total_reward+reward\n",
        "    \n",
        "#Visualizing\n",
        "plt.hist(ads_selected)\n",
        "plt.title('HIstogram of ads selection')\n",
        "plt.xlabel('Ads')\n",
        "plt.ylabel('NUmber of times selected')\n",
        "plt.show()"
      ],
      "execution_count": 4,
      "outputs": [
        {
          "output_type": "display_data",
          "data": {
            "image/png": "[encoded data removed]",
            "text/plain": [
              "<Figure size 432x288 with 1 Axes>"
            ]
          },
          "metadata": {
            "tags": [],
            "needs_background": "light"
          }
        }
      ]
    },
    {
      "cell_type": "code",
      "metadata": {
        "id": "_ehwGeoQ8wAu",
        "colab_type": "code",
        "colab": {
          "base_uri": "https://localhost:8080/",
          "height": 295
        },
        "outputId": "8a657470-2631-44ae-efd2-4ad4c04c870a"
      },
      "source": [
        "import numpy as np\n",
        "import matplotlib.pyplot as plt\n",
        "import pandas as pd\n",
        "\n",
        "#Randomly selected ads have got the total_reward 1224 this time\n",
        "#as you select it will be near 1200 almost.\n",
        "#implement Ucb to maximise the total rewards\n",
        "\n",
        "#importing the dataset\n",
        "dataset=pd.read_csv(\"Ads_CTR_Optimisation.csv\")\n",
        "\n",
        "#Implementing UCB\n",
        "import math\n",
        "total_users=10000\n",
        "no_ads=10\n",
        "ads_selected=[]\n",
        "number_selections=[0]*no_ads\n",
        "sums_rewards=[0]*no_ads\n",
        "total_reward=0\n",
        "for n in range(0,total_users):\n",
        "    ad=0\n",
        "    max_upper_bound=0\n",
        "    for i in range(0,no_ads):\n",
        "        if(number_selections[i]>0):\n",
        "            average_reward=sums_rewards[i]/number_selections[i]\n",
        "            delta_i=math.sqrt(3/2*math.log(n+1)/number_selections[i])\n",
        "            upper_bound=average_reward+delta_i\n",
        "        else:\n",
        "            upper_bound=1e400\n",
        "        if upper_bound>max_upper_bound:\n",
        "            max_upper_bound=upper_bound\n",
        "            ad=i\n",
        "    ads_selected.append(ad)\n",
        "    number_selections[ad]=number_selections[ad]+1\n",
        "    reward=dataset.values[n,ad]\n",
        "    sums_rewards[ad]=sums_rewards[ad]+reward\n",
        "    total_reward=total_reward+reward\n",
        "    \n",
        "plt.hist(ads_selected)\n",
        "plt.title('HIstogram of ads selection')\n",
        "plt.xlabel('Ads')\n",
        "plt.ylabel('NUmber of times selected')\n",
        "plt.show()"
      ],
      "execution_count": 5,
      "outputs": [
        {
          "output_type": "display_data",
          "data": {
            "image/png": "[encoded data removed]",
            "text/plain": [
              "<Figure size 432x288 with 1 Axes>"
            ]
          },
          "metadata": {
            "tags": [],
            "needs_background": "light"
          }
        }
      ]
    },
    {
      "cell_type": "code",
      "metadata": {
        "id": "s5KACIKe81L2",
        "colab_type": "code",
        "colab": {
          "base_uri": "https://localhost:8080/",
          "height": 295
        },
        "outputId": "0396e6c1-8ec0-43fd-aa87-4f83ee0eb16a"
      },
      "source": [
        "import numpy as np\n",
        "import matplotlib.pyplot as plt\n",
        "import pandas as pd\n",
        "\n",
        "#Randomly selected ads have got the total_reward 1224 this time\n",
        "#as you select it will be near 1200 almost.\n",
        "#implement Ucb to maximise the total rewards\n",
        "\n",
        "#importing the dataset\n",
        "dataset=pd.read_csv(\"Ads_CTR_Optimisation.csv\")\n",
        "\n",
        "#Implementing THOMPSON SAMPLING\n",
        "import math\n",
        "import random\n",
        "total_users=10000\n",
        "no_ads=10\n",
        "ads_selected=[]\n",
        "number_reward_1=[0]*no_ads\n",
        "number_reward_0=[0]*no_ads\n",
        "total_reward=0\n",
        "for n in range(0,total_users):\n",
        "    ad=0\n",
        "    max_random=0\n",
        "    for i in range(0,no_ads): \n",
        "        random_beta=random.betavariate(number_reward_1[i]+1,number_reward_0[i]+1)\n",
        "        \n",
        "        if random_beta>max_random:\n",
        "            max_random=random_beta\n",
        "            ad=i\n",
        "      \n",
        "    ads_selected.append(ad)\n",
        "    reward=dataset.values[n,ad]\n",
        "    if reward==1:\n",
        "       number_reward_1[ad]=number_reward_1[ad]+1\n",
        "    else:\n",
        "        number_reward_0[ad]=number_reward_0[ad]+1\n",
        "    total_reward=total_reward+reward\n",
        "    \n",
        "plt.hist(ads_selected)\n",
        "plt.title('HIstogram of ads selection')\n",
        "plt.xlabel('Ads')\n",
        "plt.ylabel('NUmber of times selected')\n",
        "plt.show()"
      ],
      "execution_count": 6,
      "outputs": [
        {
          "output_type": "display_data",
          "data": {
            "image/png": "[encoded data removed]",
            "text/plain": [
              "<Figure size 432x288 with 1 Axes>"
            ]
          },
          "metadata": {
            "tags": [],
            "needs_background": "light"
          }
        }
      ]
    },
    {
      "cell_type": "code",
      "metadata": {
        "id": "N9Vl3-TJ85bf",
        "colab_type": "code",
        "colab": {}
      },
      "source": [
        "import numpy as np\n",
        "import matplotlib.pyplot as plt\n",
        "import pandas as pd\n",
        "\n",
        "\n",
        "#IMPORTING THE DATASET\n",
        "\n",
        "# this will no work dataset=pd.read_csv(\"Restaurant_Reviews.tsv\")\n",
        "#because this is not comma separated value (csv)\n",
        "#this is tab seperated value(tsv)\n",
        "\n",
        "#so use delimiter '\\t' and quote=3 will also avoid double quote\n",
        "dataset=pd.read_csv(\"Restaurant_Reviews.tsv\",delimiter='\\t',quoting=3)\n"
      ],
      "execution_count": 7,
      "outputs": []
    },
    {
      "cell_type": "code",
      "metadata": {
        "id": "M-PgchpT9K2l",
        "colab_type": "code",
        "colab": {
          "base_uri": "https://localhost:8080/",
          "height": 51
        },
        "outputId": "40dbf430-eafc-41f7-c12d-80798f350df1"
      },
      "source": [
        "\n",
        "#Cleaning The text like steamming\n",
        "import re\n",
        "import nltk\n",
        "#download stopwords which is a package inside nltk for nlp\n",
        "#stopwords contains a list of irrelevant words that is meaningless for \n",
        "#the review process like here for the first line 'this'\n",
        "\n",
        "nltk.download('stopwords')  \n",
        "from nltk.corpus import stopwords\n",
        "from nltk.stem.porter import PorterStemmer\n",
        "#dataset['Review'][0]='Wow... LOved this place.'\n",
        "'''1st step Only keep the letters into the review.So we will remove all the \n",
        "letters and numbers and punctutations etc.'''\n",
        "\n",
        "#We want to do this for alllll data\n",
        "#actually corpus in NLP is collection of some texts\n",
        "corpus=[]\n",
        "#Write what you dont want to remove what ,we will write inside the ''.\n",
        "for i in range(0,1000):\n",
        "    review=re.sub('[^a-zA-Z]',' ',dataset['Review'][i])\n",
        "    #lower case\n",
        "    review=review.lower()\n",
        "    #get rid of the irrelevant words\n",
        "    review=review.split()\n",
        "    #Creating stem object\n",
        "    ps=PorterStemmer()\n",
        "    '''go to every word in the review list and then check if it is not \n",
        "    included in the stopwords(english) list'''\n",
        "    #review=[word for word in review if not word in (stopwords.words('english'))]\n",
        "\n",
        "    #STEMMING\n",
        "    #It will be applied on each word so the review will be:\n",
        "    review=[ps.stem(word) for word in review if not word in (stopwords.words('english'))]\n",
        "    #We want to join the elements of that review list by ' '.\n",
        "    review=' '.join(review)\n",
        "    #add one by one in the corpus list\n",
        "    corpus.append(review)\n",
        "#TEXT CLEANING DONE!!!\n",
        " "
      ],
      "execution_count": 8,
      "outputs": [
        {
          "output_type": "stream",
          "text": [
            "[nltk_data] Downloading package stopwords to /root/nltk_data...\n",
            "[nltk_data]   Unzipping corpora/stopwords.zip.\n"
          ],
          "name": "stdout"
        }
      ]
    },
    {
      "cell_type": "code",
      "metadata": {
        "id": "iN1gQ4_d9Pkb",
        "colab_type": "code",
        "colab": {}
      },
      "source": [
        "\n",
        "#Creating the BAG OF WORDS Model\n",
        "'''Defining a sparse matrix where the dependent variable will be there and it will\n",
        "be used to train the model in the classification after Bag or Words'''\n",
        "from sklearn.feature_extraction.text import CountVectorizer\n",
        "#why 1500 because see the X we have 1565 words and so we are taking 1500 frequent words\n",
        "cv=CountVectorizer(max_features=1500)\n",
        "'''here in countvectorizer we can also include stopwords,token[^a-zA-Z] and lowercase\n",
        "maxfeature also'''\n",
        "X=cv.fit_transform(corpus).toarray()\n",
        "\n",
        "#BAG OF WORDS MODEL DONE!!!!\n",
        "#take dependent variable or the review in the Y\n",
        "Y=dataset.iloc[:,1].values\n",
        "\n",
        "#NAIVE BAYES CLASSIFICATION MODEL OUR DATA IS READY\n",
        "\n",
        "from sklearn.model_selection import train_test_split\n",
        "X_train,X_test,Y_train,Y_test=train_test_split(X,Y,test_size=0.20,random_state=0)"
      ],
      "execution_count": 9,
      "outputs": []
    },
    {
      "cell_type": "code",
      "metadata": {
        "id": "aaHmBKtu9XCp",
        "colab_type": "code",
        "colab": {}
      },
      "source": [
        "\n",
        "#WE DON'T NEED FEATURE SCALING\n",
        "#Fitting the classification for the training set\n",
        "#create your classifier\n",
        "from sklearn.naive_bayes import GaussianNB\n",
        "classifier=GaussianNB()\n",
        "classifier.fit(X_train,Y_train)\n",
        "#Predicting test set result\n",
        "y_pred=classifier.predict(X_test)\n",
        "#Make the Confusion Matrix\n",
        "#to evaluate the model performance"
      ],
      "execution_count": 10,
      "outputs": []
    },
    {
      "cell_type": "code",
      "metadata": {
        "id": "-Zn294YG9Zfo",
        "colab_type": "code",
        "colab": {
          "base_uri": "https://localhost:8080/",
          "height": 51
        },
        "outputId": "c85314dd-faee-4eea-f6c7-e528f3003def"
      },
      "source": [
        "\n",
        "from sklearn.metrics import confusion_matrix\n",
        "cm=confusion_matrix(Y_test,y_pred)\n",
        "cm"
      ],
      "execution_count": 12,
      "outputs": [
        {
          "output_type": "execute_result",
          "data": {
            "text/plain": [
              "array([[55, 42],\n",
              "       [12, 91]])"
            ]
          },
          "metadata": {
            "tags": []
          },
          "execution_count": 12
        }
      ]
    },
    {
      "cell_type": "code",
      "metadata": {
        "id": "UbHlxUcL9aw9",
        "colab_type": "code",
        "colab": {
          "base_uri": "https://localhost:8080/",
          "height": 34
        },
        "outputId": "c2ff2eb0-eb67-4643-813f-c34b48d470b9"
      },
      "source": [
        "print('accuracy:',(55+91)/(200))"
      ],
      "execution_count": 13,
      "outputs": [
        {
          "output_type": "stream",
          "text": [
            "accuracy: 0.73\n"
          ],
          "name": "stdout"
        }
      ]
    },
    {
      "cell_type": "code",
      "metadata": {
        "id": "aYwP5UxY9oG7",
        "colab_type": "code",
        "colab": {}
      },
      "source": [
        "#ARTIFICIAL NEURAL NETWORK\n",
        "\n",
        "import numpy as np\n",
        "import matplotlib.pyplot as plt\n",
        "import pandas as pd\n",
        "\n",
        "#import the dataset\n",
        "dataset=pd.read_csv(\"Churn_Modelling.csv\")\n",
        "X=dataset.iloc[:,3:13].values\n",
        "Y=dataset.iloc[:,13].values\n",
        "\n",
        "#ENCODE CATEGORICAL VARIABLE\n",
        "from sklearn.preprocessing import LabelEncoder\n",
        "labelencoder_x1=LabelEncoder()\n",
        "labelencoder_x2=LabelEncoder()\n",
        "X[:,1]=labelencoder_x1.fit_transform(X[:,1])\n",
        "X[:,2]=labelencoder_x2.fit_transform(X[:,2])\n",
        "from sklearn.preprocessing import OneHotEncoder\n",
        "from sklearn.compose import ColumnTransformer\n",
        "ct = ColumnTransformer([(\"Country\", OneHotEncoder(), [1])], remainder = 'passthrough')\n",
        "X = ct.fit_transform(X)\n",
        "X=X[:,1:]\n",
        "\n",
        "#Train Test split\n",
        "\n",
        "from sklearn.model_selection import train_test_split\n",
        "X_train,X_test,Y_train,Y_test=train_test_split(X,Y,test_size=0.2,random_state=0)\n",
        "\n",
        "#feature scaling\n",
        "from sklearn.preprocessing import StandardScaler\n",
        "sc_x=StandardScaler()\n",
        "X_train=sc_x.fit_transform(X_train) \n",
        "X_test=sc_x.transform(X_test)\n",
        "\n",
        "\n",
        "#Fitting the classification for the training set\n",
        "#create your ARTIFICIAL NEURAL NETWORK\n",
        "\n",
        "#Libraries\n"
      ],
      "execution_count": 14,
      "outputs": []
    },
    {
      "cell_type": "code",
      "metadata": {
        "id": "_U76OLNN96w4",
        "colab_type": "code",
        "colab": {
          "base_uri": "https://localhost:8080/",
          "height": 34
        },
        "outputId": "17a535fe-9c07-487b-fa30-6ca6f9977281"
      },
      "source": [
        "import keras\n",
        "from keras.models import Sequential\n",
        "from keras.layers import Dense\n"
      ],
      "execution_count": 15,
      "outputs": [
        {
          "output_type": "stream",
          "text": [
            "Using TensorFlow backend.\n"
          ],
          "name": "stderr"
        }
      ]
    },
    {
      "cell_type": "code",
      "metadata": {
        "id": "1MBV9JpR9_Lh",
        "colab_type": "code",
        "colab": {}
      },
      "source": [
        "\n",
        "#Modeling\n",
        "#Initialising the Ann\n",
        "classifier=Sequential()\n",
        "\n",
        "#next line is not same with the video as mine has updated SPYDER and Keras\n",
        "#here we are taking unit =6 because from experiment we come to know \n",
        "#that no of nodes in the input layer--11 and no of nodes in the output layer--1\n",
        "#no of hidden layer=(1+11)/2=6\n",
        "\n",
        "#Adding Input Layer and First Hidden Layer\n",
        "\n",
        "classifier.add(Dense(units=6,activation='relu',kernel_initializer='uniform',input_dim=11))\n",
        "\n",
        "#Creating second hidden layer\n",
        "classifier.add(Dense(units=6,activation='relu',kernel_initializer='uniform'))\n",
        "\n",
        "#Creating the OUtput Layer\n",
        "classifier.add(Dense(units=1,activation='sigmoid',kernel_initializer='uniform'))\n",
        "\n",
        "#compile the ann means we will add STOCHASTIC GRADIENT DESCENT \n"
      ],
      "execution_count": 16,
      "outputs": []
    },
    {
      "cell_type": "code",
      "metadata": {
        "id": "bGPK7sLR-C4V",
        "colab_type": "code",
        "colab": {
          "base_uri": "https://localhost:8080/",
          "height": 1000
        },
        "outputId": "a02e573b-817a-49e8-9009-bb8bd65f0083"
      },
      "source": [
        "'''apply logarithmic loss function if dependent variable has binary outcome then \n",
        "BINARY_CROSSENTROPY\n",
        "#if three variables are there in the dependent variable then \n",
        "CATEGORICAL_CROSSENTROPY'''\n",
        "#here binary\n",
        "classifier.compile(optimizer='adam',loss='binary_crossentropy',metrics=['accuracy'])\n",
        "\n",
        "#Fitting the ANN to the training set\n",
        "classifier.fit(X_train,Y_train,batch_size=10,epochs=100)\n",
        "\n",
        "#THE ULTIMATE ACCURACY IS : .8359\n",
        "#Making the predictions and evaluating the model\n",
        "    \n",
        "#Predicting test set result\n",
        "y_pred=classifier.predict(X_test)"
      ],
      "execution_count": 17,
      "outputs": [
        {
          "output_type": "stream",
          "text": [
            "Epoch 1/100\n",
            "8000/8000 [==============================] - 1s 151us/step - loss: 0.4891 - accuracy: 0.7954\n",
            "Epoch 2/100\n",
            "8000/8000 [==============================] - 1s 109us/step - loss: 0.4283 - accuracy: 0.7960\n",
            "Epoch 3/100\n",
            "8000/8000 [==============================] - 1s 109us/step - loss: 0.4232 - accuracy: 0.7960\n",
            "Epoch 4/100\n",
            "8000/8000 [==============================] - 1s 111us/step - loss: 0.4199 - accuracy: 0.8130\n",
            "Epoch 5/100\n",
            "8000/8000 [==============================] - 1s 119us/step - loss: 0.4173 - accuracy: 0.8256\n",
            "Epoch 6/100\n",
            "8000/8000 [==============================] - 1s 114us/step - loss: 0.4150 - accuracy: 0.8261\n",
            "Epoch 7/100\n",
            "8000/8000 [==============================] - 1s 116us/step - loss: 0.4136 - accuracy: 0.8294\n",
            "Epoch 8/100\n",
            "8000/8000 [==============================] - 1s 125us/step - loss: 0.4127 - accuracy: 0.8326\n",
            "Epoch 9/100\n",
            "8000/8000 [==============================] - 1s 111us/step - loss: 0.4112 - accuracy: 0.8317\n",
            "Epoch 10/100\n",
            "8000/8000 [==============================] - 1s 110us/step - loss: 0.4102 - accuracy: 0.8336\n",
            "Epoch 11/100\n",
            "8000/8000 [==============================] - 1s 107us/step - loss: 0.4083 - accuracy: 0.8322\n",
            "Epoch 12/100\n",
            "8000/8000 [==============================] - 1s 113us/step - loss: 0.4069 - accuracy: 0.8321\n",
            "Epoch 13/100\n",
            "8000/8000 [==============================] - 1s 109us/step - loss: 0.4044 - accuracy: 0.8335\n",
            "Epoch 14/100\n",
            "8000/8000 [==============================] - 1s 109us/step - loss: 0.4036 - accuracy: 0.8334\n",
            "Epoch 15/100\n",
            "8000/8000 [==============================] - 1s 111us/step - loss: 0.4025 - accuracy: 0.8342\n",
            "Epoch 16/100\n",
            "8000/8000 [==============================] - 1s 107us/step - loss: 0.4011 - accuracy: 0.8340\n",
            "Epoch 17/100\n",
            "8000/8000 [==============================] - 1s 113us/step - loss: 0.4006 - accuracy: 0.8342\n",
            "Epoch 18/100\n",
            "8000/8000 [==============================] - 1s 115us/step - loss: 0.3999 - accuracy: 0.8357\n",
            "Epoch 19/100\n",
            "8000/8000 [==============================] - 1s 121us/step - loss: 0.3985 - accuracy: 0.8351\n",
            "Epoch 20/100\n",
            "8000/8000 [==============================] - 1s 124us/step - loss: 0.3986 - accuracy: 0.8349\n",
            "Epoch 21/100\n",
            "8000/8000 [==============================] - 1s 113us/step - loss: 0.3977 - accuracy: 0.8361\n",
            "Epoch 22/100\n",
            "8000/8000 [==============================] - 1s 111us/step - loss: 0.3972 - accuracy: 0.8347\n",
            "Epoch 23/100\n",
            "8000/8000 [==============================] - 1s 112us/step - loss: 0.3963 - accuracy: 0.8364\n",
            "Epoch 24/100\n",
            "8000/8000 [==============================] - 1s 112us/step - loss: 0.3962 - accuracy: 0.8357\n",
            "Epoch 25/100\n",
            "8000/8000 [==============================] - 1s 113us/step - loss: 0.3963 - accuracy: 0.8370\n",
            "Epoch 26/100\n",
            "8000/8000 [==============================] - 1s 113us/step - loss: 0.3958 - accuracy: 0.8364\n",
            "Epoch 27/100\n",
            "8000/8000 [==============================] - 1s 107us/step - loss: 0.3955 - accuracy: 0.8367\n",
            "Epoch 28/100\n",
            "8000/8000 [==============================] - 1s 110us/step - loss: 0.3954 - accuracy: 0.8361\n",
            "Epoch 29/100\n",
            "8000/8000 [==============================] - 1s 108us/step - loss: 0.3948 - accuracy: 0.8381\n",
            "Epoch 30/100\n",
            "8000/8000 [==============================] - 1s 127us/step - loss: 0.3943 - accuracy: 0.8370\n",
            "Epoch 31/100\n",
            "8000/8000 [==============================] - 1s 123us/step - loss: 0.3947 - accuracy: 0.8365\n",
            "Epoch 32/100\n",
            "8000/8000 [==============================] - 1s 109us/step - loss: 0.3937 - accuracy: 0.8361\n",
            "Epoch 33/100\n",
            "8000/8000 [==============================] - 1s 109us/step - loss: 0.3941 - accuracy: 0.8382\n",
            "Epoch 34/100\n",
            "8000/8000 [==============================] - 1s 107us/step - loss: 0.3936 - accuracy: 0.8379\n",
            "Epoch 35/100\n",
            "8000/8000 [==============================] - 1s 116us/step - loss: 0.3934 - accuracy: 0.8370\n",
            "Epoch 36/100\n",
            "8000/8000 [==============================] - 1s 110us/step - loss: 0.3931 - accuracy: 0.8376\n",
            "Epoch 37/100\n",
            "8000/8000 [==============================] - 1s 114us/step - loss: 0.3929 - accuracy: 0.8379\n",
            "Epoch 38/100\n",
            "8000/8000 [==============================] - 1s 125us/step - loss: 0.3920 - accuracy: 0.8367\n",
            "Epoch 39/100\n",
            "8000/8000 [==============================] - 1s 119us/step - loss: 0.3913 - accuracy: 0.8389\n",
            "Epoch 40/100\n",
            "8000/8000 [==============================] - 1s 108us/step - loss: 0.3897 - accuracy: 0.8394\n",
            "Epoch 41/100\n",
            "8000/8000 [==============================] - 1s 108us/step - loss: 0.3874 - accuracy: 0.8390\n",
            "Epoch 42/100\n",
            "8000/8000 [==============================] - 1s 111us/step - loss: 0.3841 - accuracy: 0.8394\n",
            "Epoch 43/100\n",
            "8000/8000 [==============================] - 1s 112us/step - loss: 0.3800 - accuracy: 0.8419\n",
            "Epoch 44/100\n",
            "8000/8000 [==============================] - 1s 110us/step - loss: 0.3763 - accuracy: 0.8424\n",
            "Epoch 45/100\n",
            "8000/8000 [==============================] - 1s 113us/step - loss: 0.3711 - accuracy: 0.8456\n",
            "Epoch 46/100\n",
            "8000/8000 [==============================] - 1s 118us/step - loss: 0.3676 - accuracy: 0.8466\n",
            "Epoch 47/100\n",
            "8000/8000 [==============================] - 1s 120us/step - loss: 0.3642 - accuracy: 0.8489\n",
            "Epoch 48/100\n",
            "8000/8000 [==============================] - 1s 111us/step - loss: 0.3613 - accuracy: 0.8522\n",
            "Epoch 49/100\n",
            "8000/8000 [==============================] - 1s 111us/step - loss: 0.3592 - accuracy: 0.8518\n",
            "Epoch 50/100\n",
            "8000/8000 [==============================] - 1s 109us/step - loss: 0.3575 - accuracy: 0.8528\n",
            "Epoch 51/100\n",
            "8000/8000 [==============================] - 1s 110us/step - loss: 0.3549 - accuracy: 0.8529\n",
            "Epoch 52/100\n",
            "8000/8000 [==============================] - 1s 111us/step - loss: 0.3530 - accuracy: 0.8554\n",
            "Epoch 53/100\n",
            "8000/8000 [==============================] - 1s 111us/step - loss: 0.3529 - accuracy: 0.8565\n",
            "Epoch 54/100\n",
            "8000/8000 [==============================] - 1s 114us/step - loss: 0.3516 - accuracy: 0.8545\n",
            "Epoch 55/100\n",
            "8000/8000 [==============================] - 1s 113us/step - loss: 0.3501 - accuracy: 0.8568\n",
            "Epoch 56/100\n",
            "8000/8000 [==============================] - 1s 111us/step - loss: 0.3511 - accuracy: 0.8562\n",
            "Epoch 57/100\n",
            "8000/8000 [==============================] - 1s 124us/step - loss: 0.3494 - accuracy: 0.8577\n",
            "Epoch 58/100\n",
            "8000/8000 [==============================] - 1s 115us/step - loss: 0.3486 - accuracy: 0.8574\n",
            "Epoch 59/100\n",
            "8000/8000 [==============================] - 1s 114us/step - loss: 0.3484 - accuracy: 0.8570\n",
            "Epoch 60/100\n",
            "8000/8000 [==============================] - 1s 112us/step - loss: 0.3482 - accuracy: 0.8556\n",
            "Epoch 61/100\n",
            "8000/8000 [==============================] - 1s 106us/step - loss: 0.3475 - accuracy: 0.8577\n",
            "Epoch 62/100\n",
            "8000/8000 [==============================] - 1s 109us/step - loss: 0.3474 - accuracy: 0.8581\n",
            "Epoch 63/100\n",
            "8000/8000 [==============================] - 1s 112us/step - loss: 0.3468 - accuracy: 0.8568\n",
            "Epoch 64/100\n",
            "8000/8000 [==============================] - 1s 118us/step - loss: 0.3463 - accuracy: 0.8568\n",
            "Epoch 65/100\n",
            "8000/8000 [==============================] - 1s 117us/step - loss: 0.3454 - accuracy: 0.8597\n",
            "Epoch 66/100\n",
            "8000/8000 [==============================] - 1s 109us/step - loss: 0.3453 - accuracy: 0.8577\n",
            "Epoch 67/100\n",
            "8000/8000 [==============================] - 1s 112us/step - loss: 0.3455 - accuracy: 0.8587\n",
            "Epoch 68/100\n",
            "8000/8000 [==============================] - 1s 110us/step - loss: 0.3450 - accuracy: 0.8571\n",
            "Epoch 69/100\n",
            "8000/8000 [==============================] - 1s 110us/step - loss: 0.3443 - accuracy: 0.8599\n",
            "Epoch 70/100\n",
            "8000/8000 [==============================] - 1s 109us/step - loss: 0.3444 - accuracy: 0.8595\n",
            "Epoch 71/100\n",
            "8000/8000 [==============================] - 1s 108us/step - loss: 0.3448 - accuracy: 0.8606\n",
            "Epoch 72/100\n",
            "8000/8000 [==============================] - 1s 107us/step - loss: 0.3450 - accuracy: 0.8577\n",
            "Epoch 73/100\n",
            "8000/8000 [==============================] - 1s 121us/step - loss: 0.3436 - accuracy: 0.8566\n",
            "Epoch 74/100\n",
            "8000/8000 [==============================] - 1s 116us/step - loss: 0.3433 - accuracy: 0.8583\n",
            "Epoch 75/100\n",
            "8000/8000 [==============================] - 1s 114us/step - loss: 0.3430 - accuracy: 0.8584\n",
            "Epoch 76/100\n",
            "8000/8000 [==============================] - 1s 117us/step - loss: 0.3426 - accuracy: 0.8576\n",
            "Epoch 77/100\n",
            "8000/8000 [==============================] - 1s 125us/step - loss: 0.3435 - accuracy: 0.8595\n",
            "Epoch 78/100\n",
            "8000/8000 [==============================] - 1s 119us/step - loss: 0.3438 - accuracy: 0.8590\n",
            "Epoch 79/100\n",
            "8000/8000 [==============================] - 1s 109us/step - loss: 0.3439 - accuracy: 0.8568\n",
            "Epoch 80/100\n",
            "8000/8000 [==============================] - 1s 110us/step - loss: 0.3425 - accuracy: 0.8600\n",
            "Epoch 81/100\n",
            "8000/8000 [==============================] - 1s 121us/step - loss: 0.3430 - accuracy: 0.8596\n",
            "Epoch 82/100\n",
            "8000/8000 [==============================] - 1s 109us/step - loss: 0.3419 - accuracy: 0.8606\n",
            "Epoch 83/100\n",
            "8000/8000 [==============================] - 1s 110us/step - loss: 0.3421 - accuracy: 0.8589\n",
            "Epoch 84/100\n",
            "8000/8000 [==============================] - 1s 109us/step - loss: 0.3421 - accuracy: 0.8594\n",
            "Epoch 85/100\n",
            "8000/8000 [==============================] - 1s 112us/step - loss: 0.3411 - accuracy: 0.8618\n",
            "Epoch 86/100\n",
            "8000/8000 [==============================] - 1s 109us/step - loss: 0.3425 - accuracy: 0.8621\n",
            "Epoch 87/100\n",
            "8000/8000 [==============================] - 1s 110us/step - loss: 0.3416 - accuracy: 0.8608\n",
            "Epoch 88/100\n",
            "8000/8000 [==============================] - 1s 110us/step - loss: 0.3421 - accuracy: 0.8596\n",
            "Epoch 89/100\n",
            "8000/8000 [==============================] - 1s 112us/step - loss: 0.3408 - accuracy: 0.8621\n",
            "Epoch 90/100\n",
            "8000/8000 [==============================] - 1s 113us/step - loss: 0.3409 - accuracy: 0.8620\n",
            "Epoch 91/100\n",
            "8000/8000 [==============================] - 1s 110us/step - loss: 0.3415 - accuracy: 0.8602\n",
            "Epoch 92/100\n",
            "8000/8000 [==============================] - 1s 119us/step - loss: 0.3414 - accuracy: 0.8608\n",
            "Epoch 93/100\n",
            "8000/8000 [==============================] - 1s 128us/step - loss: 0.3413 - accuracy: 0.8616\n",
            "Epoch 94/100\n",
            "8000/8000 [==============================] - 1s 111us/step - loss: 0.3415 - accuracy: 0.8599\n",
            "Epoch 95/100\n",
            "8000/8000 [==============================] - 1s 112us/step - loss: 0.3407 - accuracy: 0.8596\n",
            "Epoch 96/100\n",
            "8000/8000 [==============================] - 1s 115us/step - loss: 0.3411 - accuracy: 0.8602\n",
            "Epoch 97/100\n",
            "8000/8000 [==============================] - 1s 111us/step - loss: 0.3402 - accuracy: 0.8621\n",
            "Epoch 98/100\n",
            "8000/8000 [==============================] - 1s 120us/step - loss: 0.3412 - accuracy: 0.8591\n",
            "Epoch 99/100\n",
            "8000/8000 [==============================] - 1s 110us/step - loss: 0.3418 - accuracy: 0.8575\n",
            "Epoch 100/100\n",
            "8000/8000 [==============================] - 1s 119us/step - loss: 0.3400 - accuracy: 0.8622\n"
          ],
          "name": "stdout"
        }
      ]
    },
    {
      "cell_type": "code",
      "metadata": {
        "id": "HkyoXHnw-E_q",
        "colab_type": "code",
        "colab": {}
      },
      "source": [
        "\n",
        "#so giving threshold value 0.5 less than 0.5 will be 0 and greater will be 1\n",
        "y_pred=(y_pred>0.5)\n",
        "#Make the Confusion Matrix\n",
        "#to evaluate the model performance\n",
        "from sklearn.metrics import confusion_matrix\n",
        "cm=confusion_matrix(Y_test,y_pred)\n",
        "\n",
        "#we got and accuaracy of .8425 on training set"
      ],
      "execution_count": 18,
      "outputs": []
    },
    {
      "cell_type": "code",
      "metadata": {
        "id": "H_IZGaBk-gPp",
        "colab_type": "code",
        "colab": {
          "base_uri": "https://localhost:8080/",
          "height": 51
        },
        "outputId": "763c8762-6b1b-4b81-a23f-eaa94b69231c"
      },
      "source": [
        "cm"
      ],
      "execution_count": 19,
      "outputs": [
        {
          "output_type": "execute_result",
          "data": {
            "text/plain": [
              "array([[1486,  109],\n",
              "       [ 186,  219]])"
            ]
          },
          "metadata": {
            "tags": []
          },
          "execution_count": 19
        }
      ]
    },
    {
      "cell_type": "code",
      "metadata": {
        "id": "ROa96tw--hwn",
        "colab_type": "code",
        "colab": {
          "base_uri": "https://localhost:8080/",
          "height": 34
        },
        "outputId": "2fd62252-fe3b-48d8-840d-472b39420333"
      },
      "source": [
        "print('accuracy:',(1486+219)/(2000))"
      ],
      "execution_count": 21,
      "outputs": [
        {
          "output_type": "stream",
          "text": [
            "accuracy: 0.8525\n"
          ],
          "name": "stdout"
        }
      ]
    },
    {
      "cell_type": "code",
      "metadata": {
        "id": "MdCzy77L-q4Q",
        "colab_type": "code",
        "colab": {}
      },
      "source": [
        "#CONVOLUTIONAL NEURAL NETWORK\n",
        "#part 1 Building the convolutional neural network\n",
        "from keras.models import Sequential\n",
        "from keras.layers import Convolution2D\n",
        "from keras.layers import MaxPooling2D\n",
        "from keras.layers import Flatten\n",
        "from keras.layers import Dense\n",
        "'''Sequential is to initialise the neural network\n",
        "Convolution2D is the package to make the convolution step in cnn\n",
        "as here we are working with images so this is 2D\n",
        "Maxpooling2D to add pooling layers\n",
        "Flatten to convert all max pooled layers into one layer input\n",
        "Dense is to add fully connected layer \n",
        "'''\n",
        "#CREATING THE MODEL---------\n",
        "#initialize the convolutional neural network\n",
        "classifier=Sequential()\n",
        "\n",
        "#Step 1-Convolution\n",
        "\n",
        "'''Adding 32 feature detector and 3X3 matrix Suppose the input size is 3,256,256\n",
        "so as the picture is a colored image so there will be 3 channels with size 256,256\n",
        "this input shape=3.256,256 is a theano backend but we are using tensorflow backend\n",
        "so the order will be changed input shape=(256,256,3)'''\n",
        "classifier.add(Convolution2D(32,3,3,input_shape=(64,64,3),activation='relu'))\n",
        "\n",
        "#Step 2 Pooling   \n",
        "\n",
        "#to use the reduction of size of the feature map or the nodes\n",
        "classifier.add(MaxPooling2D(pool_size=(2,2)))\n",
        "#this line will reduce the feature map by 2\n",
        "\n",
        "#adding second convolutional layer\n",
        "classifier.add(Convolution2D(32,3,3,input_shape=(64,64,3),activation='relu'))\n",
        "classifier.add(MaxPooling2D(pool_size=(2,2)))\n",
        "\n",
        "#adding third convolutional layer\n",
        "classifier.add(Convolution2D(64,3,3,input_shape=(64,64,3),activation='relu'))\n",
        "classifier.add(MaxPooling2D(pool_size=(2,2)))\n",
        "\n",
        "#Step 3 Flattening\n",
        "\n",
        "classifier.add(Flatten())\n",
        "\n",
        "#Step 4 Full Connection\n",
        "\n",
        "#Hidden layer\n",
        "classifier.add(Dense(units=128,activation='relu'))\n",
        "\n",
        "#Output Layer\n",
        "classifier.add(Dense(units=1,activation='sigmoid'))\n",
        "\n",
        "#Compiling the cnn\n",
        "'''as we have binary outcome as there are only dog and cat we will choose binary cross\n",
        "entropy ,if we have more than two we need to choose categorical cross entropy'''\n",
        "classifier.compile(optimizer='adam',loss='binary_crossentropy',metrics=['accuracy'])\n",
        "\n",
        "#IMAGE PREPROCESSING-------------\n",
        "from keras.preprocessing.image import ImageDataGenerator\n",
        "train_datagen = ImageDataGenerator(\n",
        "        rescale=1./255,\n",
        "        shear_range=0.2,\n",
        "        zoom_range=0.2,\n",
        "        horizontal_flip=True)\n",
        "test_datagen = ImageDataGenerator(rescale=1./255)\n",
        "training_set = train_datagen.flow_from_directory(\n",
        "        'PetImages/training_set',\n",
        "        target_size=(64,64),\n",
        "        batch_size=32,\n",
        "        class_mode='binary')\n",
        "test_set= test_datagen.flow_from_directory(\n",
        "        'PetImages/test_set',\n",
        "        target_size=(64,64),\n",
        "        batch_size=32,\n",
        "        class_mode='binary')\n",
        "classifier.fit_generator(\n",
        "        training_set,\n",
        "        steps_per_epoch=5996,\n",
        "        epochs=10,\n",
        "        validation_data=test_set,\n",
        "        validation_steps=1000)"
      ],
      "execution_count": null,
      "outputs": []
    },
    {
      "cell_type": "code",
      "metadata": {
        "id": "omukjFH8_B3b",
        "colab_type": "code",
        "colab": {
          "base_uri": "https://localhost:8080/",
          "height": 695
        },
        "outputId": "e044eb7e-1c24-4d6d-c6de-b5e578bd3d3f"
      },
      "source": [
        "import numpy as np\n",
        "import matplotlib.pyplot as plt\n",
        "import pandas as pd\n",
        "\n",
        "#import the dataset\n",
        "dataset=pd.read_csv(\"Wine.csv\")\n",
        "X=dataset.iloc[:,0:13].values\n",
        "Y=dataset.iloc[:,13].values\n",
        "\n",
        "#splitting into training set and test set\n",
        "from sklearn.model_selection import train_test_split\n",
        "X_train,X_test,Y_train,Y_test=train_test_split(X,Y,test_size=0.2,random_state=0)\n",
        "\n",
        "#feature scaling\n",
        "from sklearn.preprocessing import StandardScaler\n",
        "sc_x=StandardScaler()\n",
        "X_train=sc_x.fit_transform(X_train) \n",
        "X_test=sc_x.transform(X_test)\n",
        "\n",
        "#Applying PCA\n",
        "'''from sklearn.decomposition import PCA\n",
        "pca=PCA(n_components=None)\n",
        "X_train=pca.fit_transform(X_train)\n",
        "X_test=pca.fit_transform(X_test)\n",
        "explained_variance=pca.explained_variance_ratio_\n",
        "'''\n",
        "#Observe which independent variables has the impact on the dataset\n",
        "\n",
        "#then we want most of the two principles\n",
        "from sklearn.decomposition import PCA\n",
        "pca=PCA(n_components=2)\n",
        "X_train=pca.fit_transform(X_train)\n",
        "X_test=pca.fit_transform(X_test)\n",
        "explained_variance=pca.explained_variance_ratio_\n",
        "\n",
        "#Fitting logistic Regression MOdel on training set\n",
        "from sklearn.linear_model import LogisticRegression\n",
        "classifier=LogisticRegression(random_state=0)\n",
        "classifier.fit(X_train,Y_train)\n",
        "\n",
        "#Predicting test set result\n",
        "y_pred=classifier.predict(X_test)\n",
        "#Make the Confusion Matrix\n",
        "#to evaluate the model performance\n",
        "from sklearn.metrics import confusion_matrix\n",
        "cm=confusion_matrix(Y_test,y_pred)\n",
        "#just write cm in the console\n",
        "#here 65 and 24 are the correct prediction and 3 and 8 are incorrect\n",
        "\n",
        "#We will make A graph to see the boundaries and other visualisation\n",
        "\n",
        "#Visualising the train set result\n",
        "\n",
        "from matplotlib.colors import ListedColormap\n",
        "x_set,y_set=X_train,Y_train\n",
        "x1,x2=np.meshgrid(np.arange(start=x_set[:,0].min()-1,stop=x_set[:,0].max()+1,step=0.01),\n",
        "                  np.arange(start=x_set[:,1].min()-1,stop=x_set[:,1].max()+1,step=0.01))\n",
        "plt.contourf(x1,x2,classifier.predict(np.array([x1.ravel(),x2.ravel()]).T).reshape(x1.shape),\n",
        "            alpha=0.75,cmap=ListedColormap(('red','green','blue')))\n",
        "plt.xlim(x1.min(),x1.max())\n",
        "plt.ylim(x2.min(),x2.max())\n",
        "for i,j in enumerate(np.unique(y_set)):\n",
        "    plt.scatter(x_set[y_set==j,0],x_set[y_set==j,1],\n",
        "                c=ListedColormap(('red','green','blue'))(i),label=j)\n",
        "plt.title('PCA(Training set)')\n",
        "plt.xlabel('PC1')\n",
        "plt.ylabel('PC2')\n",
        "plt.legend()\n",
        "plt.show()    \n",
        "\n",
        "#Visualising the test set result\n",
        "\n",
        "from matplotlib.colors import ListedColormap\n",
        "x_set,y_set=X_test,Y_test\n",
        "x1,x2=np.meshgrid(np.arange(start=x_set[:,0].min()-1,stop=x_set[:,0].max()+1,step=0.01),\n",
        "                  np.arange(start=x_set[:,1].min()-1,stop=x_set[:,1].max()+1,step=0.01))\n",
        "plt.contourf(x1,x2,classifier.predict(np.array([x1.ravel(),x2.ravel()]).T).reshape(x1.shape),\n",
        "            alpha=0.75,cmap=ListedColormap(('red','green','blue')))\n",
        "plt.xlim(x1.min(),x1.max())\n",
        "plt.ylim(x2.min(),x2.max())\n",
        "for i,j in enumerate(np.unique(y_set)):\n",
        "    plt.scatter(x_set[y_set==j,0],x_set[y_set==j,1],\n",
        "                c=ListedColormap(('red','green','blue'))(i),label=j)\n",
        "plt.title('PCA(Test set)')\n",
        "plt.xlabel('PC1')\n",
        "plt.ylabel('PC2')\n",
        "plt.legend()\n",
        "plt.show()    "
      ],
      "execution_count": 22,
      "outputs": [
        {
          "output_type": "stream",
          "text": [
            "*c* argument looks like a single numeric RGB or RGBA sequence, which should be avoided as value-mapping will have precedence in case its length matches with *x* & *y*.  Please use the *color* keyword-argument or provide a 2-D array with a single row if you intend to specify the same RGB or RGBA value for all points.\n",
            "*c* argument looks like a single numeric RGB or RGBA sequence, which should be avoided as value-mapping will have precedence in case its length matches with *x* & *y*.  Please use the *color* keyword-argument or provide a 2-D array with a single row if you intend to specify the same RGB or RGBA value for all points.\n",
            "*c* argument looks like a single numeric RGB or RGBA sequence, which should be avoided as value-mapping will have precedence in case its length matches with *x* & *y*.  Please use the *color* keyword-argument or provide a 2-D array with a single row if you intend to specify the same RGB or RGBA value for all points.\n"
          ],
          "name": "stderr"
        },
        {
          "output_type": "display_data",
          "data": {
            "image/png": "[encoded data removed]",
            "text/plain": [
              "<Figure size 432x288 with 1 Axes>"
            ]
          },
          "metadata": {
            "tags": [],
            "needs_background": "light"
          }
        },
        {
          "output_type": "stream",
          "text": [
            "*c* argument looks like a single numeric RGB or RGBA sequence, which should be avoided as value-mapping will have precedence in case its length matches with *x* & *y*.  Please use the *color* keyword-argument or provide a 2-D array with a single row if you intend to specify the same RGB or RGBA value for all points.\n",
            "*c* argument looks like a single numeric RGB or RGBA sequence, which should be avoided as value-mapping will have precedence in case its length matches with *x* & *y*.  Please use the *color* keyword-argument or provide a 2-D array with a single row if you intend to specify the same RGB or RGBA value for all points.\n",
            "*c* argument looks like a single numeric RGB or RGBA sequence, which should be avoided as value-mapping will have precedence in case its length matches with *x* & *y*.  Please use the *color* keyword-argument or provide a 2-D array with a single row if you intend to specify the same RGB or RGBA value for all points.\n"
          ],
          "name": "stderr"
        },
        {
          "output_type": "display_data",
          "data": {
            "image/png": "[encoded data removed]",
            "text/plain": [
              "<Figure size 432x288 with 1 Axes>"
            ]
          },
          "metadata": {
            "tags": [],
            "needs_background": "light"
          }
        }
      ]
    },
    {
      "cell_type": "code",
      "metadata": {
        "id": "zcvOkPz3_Pb_",
        "colab_type": "code",
        "colab": {
          "base_uri": "https://localhost:8080/",
          "height": 68
        },
        "outputId": "483e6496-c0d4-4082-8db4-7a6bbadcebda"
      },
      "source": [
        "cm"
      ],
      "execution_count": 23,
      "outputs": [
        {
          "output_type": "execute_result",
          "data": {
            "text/plain": [
              "array([[ 0,  1, 13],\n",
              "       [ 4, 11,  1],\n",
              "       [ 6,  0,  0]])"
            ]
          },
          "metadata": {
            "tags": []
          },
          "execution_count": 23
        }
      ]
    },
    {
      "cell_type": "code",
      "metadata": {
        "id": "djaXwtWU_YPC",
        "colab_type": "code",
        "colab": {
          "base_uri": "https://localhost:8080/",
          "height": 695
        },
        "outputId": "dbe9dcda-7ec4-4d42-96f4-196caaae2c05"
      },
      "source": [
        "#Linear discriminant analysis\n",
        "import numpy as np\n",
        "import matplotlib.pyplot as plt\n",
        "import pandas as pd\n",
        "\n",
        "#import the dataset\n",
        "dataset=pd.read_csv(\"Wine.csv\")\n",
        "X=dataset.iloc[:,0:13].values\n",
        "Y=dataset.iloc[:,13].values\n",
        "\n",
        "from sklearn.model_selection import train_test_split\n",
        "X_train,X_test,Y_train,Y_test=train_test_split(X,Y,test_size=0.2,random_state=0)\n",
        "\n",
        "#feature scaling\n",
        "from sklearn.preprocessing import StandardScaler\n",
        "sc_x=StandardScaler()\n",
        "X_train=sc_x.fit_transform(X_train) \n",
        "X_test=sc_x.transform(X_test)\n",
        "\n",
        "#Applying LDA\n",
        "'''from sklearn.discriminant_analysis import LinearDiscriminantAnalysis as LDA\n",
        "lda=LDA(n_components=None)\n",
        "X_train=lda.fit_transform(X_train)\n",
        "X_test=lda.fit_transform(X_test)\n",
        "\n",
        "'''\n",
        "#Observe which independent variables has the impact on the dataset\n",
        "\n",
        "#then we want most of the two principles\n",
        "from sklearn.discriminant_analysis import LinearDiscriminantAnalysis as LDA\n",
        "lda=LDA(n_components=2)\n",
        "X_train=lda.fit_transform(X_train,Y_train)\n",
        "X_test=lda.fit_transform(X_test,Y_test)#different than video\n",
        "\n",
        "#Fitting logistic Regression MOdel on training set\n",
        "from sklearn.linear_model import LogisticRegression\n",
        "classifier=LogisticRegression(random_state=0)\n",
        "classifier.fit(X_train,Y_train)\n",
        "\n",
        "#Predicting test set result\n",
        "y_pred=classifier.predict(X_test)\n",
        "#Make the Confusion Matrix\n",
        "#to evaluate the model performance\n",
        "from sklearn.metrics import confusion_matrix\n",
        "cm=confusion_matrix(Y_test,y_pred)\n",
        "#just write cm in the console\n",
        "#here 65 and 24 are the correct prediction and 3 and 8 are incorrect\n",
        "\n",
        "#We will make A graph to see the boundaries and other visualisation\n",
        "\n",
        "#Visualising the train set result\n",
        "\n",
        "from matplotlib.colors import ListedColormap\n",
        "x_set,y_set=X_train,Y_train\n",
        "x1,x2=np.meshgrid(np.arange(start=x_set[:,0].min()-1,stop=x_set[:,0].max()+1,step=0.01),\n",
        "                  np.arange(start=x_set[:,1].min()-1,stop=x_set[:,1].max()+1,step=0.01))\n",
        "plt.contourf(x1,x2,classifier.predict(np.array([x1.ravel(),x2.ravel()]).T).reshape(x1.shape),\n",
        "            alpha=0.75,cmap=ListedColormap(('red','green','blue')))\n",
        "plt.xlim(x1.min(),x1.max())\n",
        "plt.ylim(x2.min(),x2.max())\n",
        "for i,j in enumerate(np.unique(y_set)):\n",
        "    plt.scatter(x_set[y_set==j,0],x_set[y_set==j,1],\n",
        "                c=ListedColormap(('red','green','blue'))(i),label=j)\n",
        "plt.title('LDA(Training set)')\n",
        "plt.xlabel('LD1')\n",
        "plt.ylabel('LD2')\n",
        "plt.legend()\n",
        "plt.show()    \n",
        "\n",
        "#Visualising the test set result\n",
        "\n",
        "from matplotlib.colors import ListedColormap\n",
        "x_set,y_set=X_test,Y_test\n",
        "x1,x2=np.meshgrid(np.arange(start=x_set[:,0].min()-1,stop=x_set[:,0].max()+1,step=0.01),\n",
        "                  np.arange(start=x_set[:,1].min()-1,stop=x_set[:,1].max()+1,step=0.01))\n",
        "plt.contourf(x1,x2,classifier.predict(np.array([x1.ravel(),x2.ravel()]).T).reshape(x1.shape),\n",
        "            alpha=0.75,cmap=ListedColormap(('red','green','blue')))\n",
        "plt.xlim(x1.min(),x1.max())\n",
        "plt.ylim(x2.min(),x2.max())\n",
        "for i,j in enumerate(np.unique(y_set)):\n",
        "    plt.scatter(x_set[y_set==j,0],x_set[y_set==j,1],\n",
        "                c=ListedColormap(('red','green','blue'))(i),label=j)\n",
        "plt.title('LDA(Test set)')\n",
        "plt.xlabel('LD1')\n",
        "plt.ylabel('LD2')\n",
        "plt.legend()\n",
        "plt.show()    "
      ],
      "execution_count": 24,
      "outputs": [
        {
          "output_type": "stream",
          "text": [
            "*c* argument looks like a single numeric RGB or RGBA sequence, which should be avoided as value-mapping will have precedence in case its length matches with *x* & *y*.  Please use the *color* keyword-argument or provide a 2-D array with a single row if you intend to specify the same RGB or RGBA value for all points.\n",
            "*c* argument looks like a single numeric RGB or RGBA sequence, which should be avoided as value-mapping will have precedence in case its length matches with *x* & *y*.  Please use the *color* keyword-argument or provide a 2-D array with a single row if you intend to specify the same RGB or RGBA value for all points.\n",
            "*c* argument looks like a single numeric RGB or RGBA sequence, which should be avoided as value-mapping will have precedence in case its length matches with *x* & *y*.  Please use the *color* keyword-argument or provide a 2-D array with a single row if you intend to specify the same RGB or RGBA value for all points.\n"
          ],
          "name": "stderr"
        },
        {
          "output_type": "display_data",
          "data": {
            "image/png": "[encoded data removed]",
            "text/plain": [
              "<Figure size 432x288 with 1 Axes>"
            ]
          },
          "metadata": {
            "tags": [],
            "needs_background": "light"
          }
        },
        {
          "output_type": "stream",
          "text": [
            "*c* argument looks like a single numeric RGB or RGBA sequence, which should be avoided as value-mapping will have precedence in case its length matches with *x* & *y*.  Please use the *color* keyword-argument or provide a 2-D array with a single row if you intend to specify the same RGB or RGBA value for all points.\n",
            "*c* argument looks like a single numeric RGB or RGBA sequence, which should be avoided as value-mapping will have precedence in case its length matches with *x* & *y*.  Please use the *color* keyword-argument or provide a 2-D array with a single row if you intend to specify the same RGB or RGBA value for all points.\n",
            "*c* argument looks like a single numeric RGB or RGBA sequence, which should be avoided as value-mapping will have precedence in case its length matches with *x* & *y*.  Please use the *color* keyword-argument or provide a 2-D array with a single row if you intend to specify the same RGB or RGBA value for all points.\n"
          ],
          "name": "stderr"
        },
        {
          "output_type": "display_data",
          "data": {
            "image/png": "[encoded data removed]",
            "text/plain": [
              "<Figure size 432x288 with 1 Axes>"
            ]
          },
          "metadata": {
            "tags": [],
            "needs_background": "light"
          }
        }
      ]
    },
    {
      "cell_type": "code",
      "metadata": {
        "id": "waFLWpx3_iob",
        "colab_type": "code",
        "colab": {
          "base_uri": "https://localhost:8080/",
          "height": 68
        },
        "outputId": "3624e911-8433-4441-fe99-6c81bc0d41bd"
      },
      "source": [
        "cm"
      ],
      "execution_count": 25,
      "outputs": [
        {
          "output_type": "execute_result",
          "data": {
            "text/plain": [
              "array([[14,  0,  0],\n",
              "       [ 0, 16,  0],\n",
              "       [ 0,  0,  6]])"
            ]
          },
          "metadata": {
            "tags": []
          },
          "execution_count": 25
        }
      ]
    },
    {
      "cell_type": "code",
      "metadata": {
        "id": "unGoUuLX_kWb",
        "colab_type": "code",
        "colab": {
          "base_uri": "https://localhost:8080/",
          "height": 661
        },
        "outputId": "bcf3182d-ecb6-4d19-88d0-c3f6fe325ebf"
      },
      "source": [
        "#kernel PCA\n",
        "import numpy as np\n",
        "import matplotlib.pyplot as plt\n",
        "import pandas as pd\n",
        "\n",
        "#import the dataset\n",
        "dataset=pd.read_csv(\"Social_Network_Ads.csv\")\n",
        "X=dataset.iloc[:,[2,3]].values\n",
        "Y=dataset.iloc[:,4].values\n",
        "\n",
        "#splitting into training set and test set\n",
        "from sklearn.model_selection import train_test_split\n",
        "X_train,X_test,Y_train,Y_test=train_test_split(X,Y,test_size=0.2,random_state=0)\n",
        "\n",
        "#feature scaling\n",
        "from sklearn.preprocessing import StandardScaler\n",
        "sc_x=StandardScaler()\n",
        "X_train=sc_x.fit_transform(X_train) \n",
        "X_test=sc_x.transform(X_test)\n",
        "\n",
        "#Applying kernel PCA\n",
        "'''from sklearn.decomposition import KernelPCA\n",
        "kpca=KernelPCA(n_components=None,kernel='rbf')\n",
        "X_train=kpca.fit_transform(X_train)\n",
        "X_test=kpca.fit_transform(X_test)\n",
        "'''\n",
        "#Observe which independent variables has the impact on the dataset\n",
        "\n",
        "#then we want most of the two principles\n",
        "from sklearn.decomposition import KernelPCA\n",
        "kpca=KernelPCA(n_components=2,kernel='rbf')\n",
        "X_train=kpca.fit_transform(X_train)\n",
        "X_test=kpca.fit_transform(X_test)\n",
        "\n",
        "#Fitting logistic Regression MOdel on training set\n",
        "from sklearn.linear_model import LogisticRegression\n",
        "classifier=LogisticRegression(random_state=0)\n",
        "classifier.fit(X_train,Y_train)\n",
        "\n",
        "#Predicting test set result\n",
        "y_pred=classifier.predict(X_test)\n",
        "#Make the Confusion Matrix\n",
        "#to evaluate the model performance\n",
        "from sklearn.metrics import confusion_matrix\n",
        "cm=confusion_matrix(Y_test,y_pred)\n",
        "#just write cm in the console\n",
        "#here 65 and 24 are the correct prediction and 3 and 8 are incorrect\n",
        "\n",
        "#We will make A graph to see the boundaries and other visualisation\n",
        "\n",
        "#Visualising the train set result\n",
        "\n",
        "from matplotlib.colors import ListedColormap\n",
        "x_set,y_set=X_train,Y_train\n",
        "x1,x2=np.meshgrid(np.arange(start=x_set[:,0].min()-1,stop=x_set[:,0].max()+1,step=0.01),\n",
        "                  np.arange(start=x_set[:,1].min()-1,stop=x_set[:,1].max()+1,step=0.01))\n",
        "plt.contourf(x1,x2,classifier.predict(np.array([x1.ravel(),x2.ravel()]).T).reshape(x1.shape),\n",
        "            alpha=0.75,cmap=ListedColormap(('red','green','blue')))\n",
        "plt.xlim(x1.min(),x1.max())\n",
        "plt.ylim(x2.min(),x2.max())\n",
        "for i,j in enumerate(np.unique(y_set)):\n",
        "    plt.scatter(x_set[y_set==j,0],x_set[y_set==j,1],\n",
        "                c=ListedColormap(('red','green','blue'))(i),label=j)\n",
        "plt.title('PCA(Training set)')\n",
        "plt.xlabel('PC1')\n",
        "plt.ylabel('PC2')\n",
        "plt.legend()\n",
        "plt.show()    \n",
        "\n",
        "#Visualising the test set result\n",
        "\n",
        "from matplotlib.colors import ListedColormap\n",
        "x_set,y_set=X_test,Y_test\n",
        "x1,x2=np.meshgrid(np.arange(start=x_set[:,0].min()-1,stop=x_set[:,0].max()+1,step=0.01),\n",
        "                  np.arange(start=x_set[:,1].min()-1,stop=x_set[:,1].max()+1,step=0.01))\n",
        "plt.contourf(x1,x2,classifier.predict(np.array([x1.ravel(),x2.ravel()]).T).reshape(x1.shape),\n",
        "            alpha=0.75,cmap=ListedColormap(('red','green','blue')))\n",
        "plt.xlim(x1.min(),x1.max())\n",
        "plt.ylim(x2.min(),x2.max())\n",
        "for i,j in enumerate(np.unique(y_set)):\n",
        "    plt.scatter(x_set[y_set==j,0],x_set[y_set==j,1],\n",
        "                c=ListedColormap(('red','green','blue'))(i),label=j)\n",
        "plt.title('PCA(Test set)')\n",
        "plt.xlabel('PC1')\n",
        "plt.ylabel('PC2')\n",
        "plt.legend()\n",
        "plt.show()    "
      ],
      "execution_count": 28,
      "outputs": [
        {
          "output_type": "stream",
          "text": [
            "*c* argument looks like a single numeric RGB or RGBA sequence, which should be avoided as value-mapping will have precedence in case its length matches with *x* & *y*.  Please use the *color* keyword-argument or provide a 2-D array with a single row if you intend to specify the same RGB or RGBA value for all points.\n",
            "*c* argument looks like a single numeric RGB or RGBA sequence, which should be avoided as value-mapping will have precedence in case its length matches with *x* & *y*.  Please use the *color* keyword-argument or provide a 2-D array with a single row if you intend to specify the same RGB or RGBA value for all points.\n"
          ],
          "name": "stderr"
        },
        {
          "output_type": "display_data",
          "data": {
            "image/png": "[encoded data removed]",
            "text/plain": [
              "<Figure size 432x288 with 1 Axes>"
            ]
          },
          "metadata": {
            "tags": [],
            "needs_background": "light"
          }
        },
        {
          "output_type": "stream",
          "text": [
            "*c* argument looks like a single numeric RGB or RGBA sequence, which should be avoided as value-mapping will have precedence in case its length matches with *x* & *y*.  Please use the *color* keyword-argument or provide a 2-D array with a single row if you intend to specify the same RGB or RGBA value for all points.\n",
            "*c* argument looks like a single numeric RGB or RGBA sequence, which should be avoided as value-mapping will have precedence in case its length matches with *x* & *y*.  Please use the *color* keyword-argument or provide a 2-D array with a single row if you intend to specify the same RGB or RGBA value for all points.\n"
          ],
          "name": "stderr"
        },
        {
          "output_type": "display_data",
          "data": {
            "image/png": "[encoded data removed]",
            "text/plain": [
              "<Figure size 432x288 with 1 Axes>"
            ]
          },
          "metadata": {
            "tags": [],
            "needs_background": "light"
          }
        }
      ]
    },
    {
      "cell_type": "code",
      "metadata": {
        "id": "ovCMftfl_s2d",
        "colab_type": "code",
        "colab": {
          "base_uri": "https://localhost:8080/",
          "height": 51
        },
        "outputId": "6d368a25-7e9c-48c2-8838-cfa7cc2bcea7"
      },
      "source": [
        "cm"
      ],
      "execution_count": 29,
      "outputs": [
        {
          "output_type": "execute_result",
          "data": {
            "text/plain": [
              "array([[44, 14],\n",
              "       [ 4, 18]])"
            ]
          },
          "metadata": {
            "tags": []
          },
          "execution_count": 29
        }
      ]
    },
    {
      "cell_type": "code",
      "metadata": {
        "id": "K3l1M1ss_uvF",
        "colab_type": "code",
        "colab": {
          "base_uri": "https://localhost:8080/",
          "height": 661
        },
        "outputId": "aa8619e7-03dc-4d8f-8f70-56b0eb1234b5"
      },
      "source": [
        "#GRID SEARCH\n",
        "import numpy as np\n",
        "import matplotlib.pyplot as plt\n",
        "import pandas as pd\n",
        "\n",
        "#import the dataset\n",
        "dataset=pd.read_csv(\"Social_Network_Ads.csv\")\n",
        "X=dataset.iloc[:,[2,3]].values\n",
        "Y=dataset.iloc[:,4].values\n",
        "\n",
        "#splitting into training set and test set\n",
        "from sklearn.model_selection import train_test_split\n",
        "X_train,X_test,Y_train,Y_test=train_test_split(X,Y,test_size=0.25,random_state=0)\n",
        "\n",
        "#feature scaling\n",
        "from sklearn.preprocessing import StandardScaler\n",
        "sc_x=StandardScaler()\n",
        "X_train=sc_x.fit_transform(X_train) \n",
        "X_test=sc_x.transform(X_test)\n",
        "\n",
        "#Fitting the classification for the training set\n",
        "#create your classifier\n",
        "from sklearn.svm import SVC\n",
        "classifier=SVC(kernel=\"rbf\",random_state=0)#gaussian kernel radial basis function\n",
        "classifier.fit(X_train,Y_train)\n",
        "#Predicting test set result\n",
        "y_pred=classifier.predict(X_test)\n",
        "#Make the Confusion Matrix\n",
        "#to evaluate the model performance\n",
        "from sklearn.metrics import confusion_matrix\n",
        "cm=confusion_matrix(Y_test,y_pred)\n",
        "#just write cm in the console\n",
        "#here 65 and 24 are the correct prediction and 3 and 8 are incorrect\n",
        "\n",
        "#We will make A graph to see the boundaries and other visualisation\n",
        "\n",
        "#Applying K FOLD CROSS VALIDATION\n",
        "from sklearn.model_selection import cross_val_score\n",
        "accracies=cross_val_score(estimator=classifier,X=X_train,y=Y_train,cv=10)\n",
        "#if you are working on a large dataset include n_jobs=-1 \n",
        "#that will use all of your cpus\n",
        "accracies.mean()\n",
        "accracies.std()\n",
        "\n",
        "#mean is 90% and std is 6% so we are in low variance low bias category\n",
        "\n",
        "#APPLYING GRID SEARCH TO FIND THE BEST MODEL AND PARAMETERS\n",
        "\n",
        "from sklearn.model_selection import GridSearchCV\n",
        "#parameters is a list of dictionaries\n",
        "parameters= [{'C':[1,10,100,1000],'kernel':['linear']},\n",
        "             {'C':[1,10,100,1000],'kernel':['rbf'],'gamma':[0.5,0.7,0.4,0.2,0.1,0.01,0.001,0.0001]}]\n",
        "grid_search=GridSearchCV(estimator=classifier, param_grid=parameters,\n",
        "                         scoring='accuracy',cv=10,n_jobs=-1)\n",
        "grid_search=grid_search.fit(X_train,Y_train)\n",
        "\n",
        "#visualizing all model accuracy in this grid search\n",
        "#see best accuracy and best paramter model for the dataset applied in grid search\n",
        "best_accuracy=grid_search.best_score_\n",
        "best_parameters=grid_search.best_params_    \n",
        "#Visualising the train set result\n",
        "\n",
        "from matplotlib.colors import ListedColormap\n",
        "x_set,y_set=X_train,Y_train\n",
        "x1,x2=np.meshgrid(np.arange(start=x_set[:,0].min()-1,stop=x_set[:,0].max()+1,step=0.01),\n",
        "                  np.arange(start=x_set[:,1].min()-1,stop=x_set[:,1].max()+1,step=0.01))\n",
        "plt.contourf(x1,x2,classifier.predict(np.array([x1.ravel(),x2.ravel()]).T).reshape(x1.shape),\n",
        "            alpha=0.75,cmap=ListedColormap(('red','green')))\n",
        "plt.xlim(x1.min(),x1.max())\n",
        "plt.ylim(x2.min(),x2.max())\n",
        "for i,j in enumerate(np.unique(y_set)):\n",
        "    plt.scatter(x_set[y_set==j,0],x_set[y_set==j,1],\n",
        "                c=ListedColormap(('red','green'))(i),label=j)\n",
        "plt.title('Logistic Regression(Training set)')\n",
        "plt.xlabel('Age')\n",
        "plt.ylabel('Estimated Salary')\n",
        "plt.legend()\n",
        "plt.show()    \n",
        "\n",
        "#Visualising the test set result\n",
        "\n",
        "from matplotlib.colors import ListedColormap\n",
        "x_set,y_set=X_test,Y_test\n",
        "x1,x2=np.meshgrid(np.arange(start=x_set[:,0].min()-1,stop=x_set[:,0].max()+1,step=0.01),\n",
        "                  np.arange(start=x_set[:,1].min()-1,stop=x_set[:,1].max()+1,step=0.01))\n",
        "plt.contourf(x1,x2,classifier.predict(np.array([x1.ravel(),x2.ravel()]).T).reshape(x1.shape),\n",
        "            alpha=0.75,cmap=ListedColormap(('red','green')))\n",
        "plt.xlim(x1.min(),x1.max())\n",
        "plt.ylim(x2.min(),x2.max())\n",
        "for i,j in enumerate(np.unique(y_set)):\n",
        "    plt.scatter(x_set[y_set==j,0],x_set[y_set==j,1],\n",
        "                c=ListedColormap(('red','green'))(i),label=j)\n",
        "plt.title('Logistic Regression(Test set)')\n",
        "plt.xlabel('Age')\n",
        "plt.ylabel('Estimated Salary')\n",
        "plt.legend()\n",
        "plt.show() "
      ],
      "execution_count": 30,
      "outputs": [
        {
          "output_type": "stream",
          "text": [
            "*c* argument looks like a single numeric RGB or RGBA sequence, which should be avoided as value-mapping will have precedence in case its length matches with *x* & *y*.  Please use the *color* keyword-argument or provide a 2-D array with a single row if you intend to specify the same RGB or RGBA value for all points.\n",
            "*c* argument looks like a single numeric RGB or RGBA sequence, which should be avoided as value-mapping will have precedence in case its length matches with *x* & *y*.  Please use the *color* keyword-argument or provide a 2-D array with a single row if you intend to specify the same RGB or RGBA value for all points.\n"
          ],
          "name": "stderr"
        },
        {
          "output_type": "display_data",
          "data": {
            "image/png": "[encoded data removed]",
            "text/plain": [
              "<Figure size 432x288 with 1 Axes>"
            ]
          },
          "metadata": {
            "tags": [],
            "needs_background": "light"
          }
        },
        {
          "output_type": "stream",
          "text": [
            "*c* argument looks like a single numeric RGB or RGBA sequence, which should be avoided as value-mapping will have precedence in case its length matches with *x* & *y*.  Please use the *color* keyword-argument or provide a 2-D array with a single row if you intend to specify the same RGB or RGBA value for all points.\n",
            "*c* argument looks like a single numeric RGB or RGBA sequence, which should be avoided as value-mapping will have precedence in case its length matches with *x* & *y*.  Please use the *color* keyword-argument or provide a 2-D array with a single row if you intend to specify the same RGB or RGBA value for all points.\n"
          ],
          "name": "stderr"
        },
        {
          "output_type": "display_data",
          "data": {
            "image/png": "[encoded data removed]",
            "text/plain": [
              "<Figure size 432x288 with 1 Axes>"
            ]
          },
          "metadata": {
            "tags": [],
            "needs_background": "light"
          }
        }
      ]
    },
    {
      "cell_type": "code",
      "metadata": {
        "id": "81VbR4vJ_789",
        "colab_type": "code",
        "colab": {
          "base_uri": "https://localhost:8080/",
          "height": 34
        },
        "outputId": "6b7b22da-fe23-4a7e-8cf5-1ef384c72e6d"
      },
      "source": [
        "best_accuracy"
      ],
      "execution_count": 31,
      "outputs": [
        {
          "output_type": "execute_result",
          "data": {
            "text/plain": [
              "0.9066666666666666"
            ]
          },
          "metadata": {
            "tags": []
          },
          "execution_count": 31
        }
      ]
    },
    {
      "cell_type": "code",
      "metadata": {
        "id": "e0q1bignADlw",
        "colab_type": "code",
        "colab": {
          "base_uri": "https://localhost:8080/",
          "height": 34
        },
        "outputId": "b017bd11-face-4cfb-b2ea-88f62aae62d2"
      },
      "source": [
        "best_parameters"
      ],
      "execution_count": 32,
      "outputs": [
        {
          "output_type": "execute_result",
          "data": {
            "text/plain": [
              "{'C': 1, 'gamma': 0.7, 'kernel': 'rbf'}"
            ]
          },
          "metadata": {
            "tags": []
          },
          "execution_count": 32
        }
      ]
    },
    {
      "cell_type": "code",
      "metadata": {
        "id": "Fz7D_W_RAFHt",
        "colab_type": "code",
        "colab": {
          "base_uri": "https://localhost:8080/",
          "height": 661
        },
        "outputId": "288d1a13-3893-47a1-d687-f4eb22cc1577"
      },
      "source": [
        "#k fold cross validation\n",
        "import numpy as np\n",
        "import matplotlib.pyplot as plt\n",
        "import pandas as pd\n",
        "\n",
        "#import the dataset\n",
        "dataset=pd.read_csv(\"Social_Network_Ads.csv\")\n",
        "X=dataset.iloc[:,[2,3]].values\n",
        "Y=dataset.iloc[:,4].values\n",
        "\n",
        "#splitting into training set and test set\n",
        "from sklearn.model_selection import train_test_split\n",
        "X_train,X_test,Y_train,Y_test=train_test_split(X,Y,test_size=0.25,random_state=0)\n",
        "\n",
        "#feature scaling\n",
        "from sklearn.preprocessing import StandardScaler\n",
        "sc_x=StandardScaler()\n",
        "X_train=sc_x.fit_transform(X_train) \n",
        "X_test=sc_x.transform(X_test)\n",
        "\n",
        "#Fitting the classification for the training set\n",
        "#create your classifier\n",
        "from sklearn.svm import SVC\n",
        "classifier=SVC(kernel=\"rbf\",random_state=0)#gaussian kernel radial basis function\n",
        "classifier.fit(X_train,Y_train)\n",
        "#Predicting test set result\n",
        "y_pred=classifier.predict(X_test)\n",
        "#Make the Confusion Matrix\n",
        "#to evaluate the model performance\n",
        "from sklearn.metrics import confusion_matrix\n",
        "cm=confusion_matrix(Y_test,y_pred)\n",
        "#just write cm in the console\n",
        "#here 65 and 24 are the correct prediction and 3 and 8 are incorrect\n",
        "\n",
        "#We will make A graph to see the boundaries and other visualisation\n",
        "\n",
        "#Applying K FOLD CROSS VALIDATION\n",
        "from sklearn.model_selection import cross_val_score\n",
        "accracies=cross_val_score(estimator=classifier,X=X_train,y=Y_train,cv=10)\n",
        "#if you are working on a large dataset include n_jobs=-1 \n",
        "#that will use all of your cpus\n",
        "accracies.mean()\n",
        "accracies.std()\n",
        "\n",
        "#mean is 90% and std is 6% so we are in low variance low bias category\n",
        "    \n",
        "#Visualising the train set result\n",
        "\n",
        "from matplotlib.colors import ListedColormap\n",
        "x_set,y_set=X_train,Y_train\n",
        "x1,x2=np.meshgrid(np.arange(start=x_set[:,0].min()-1,stop=x_set[:,0].max()+1,step=0.01),\n",
        "                  np.arange(start=x_set[:,1].min()-1,stop=x_set[:,1].max()+1,step=0.01))\n",
        "plt.contourf(x1,x2,classifier.predict(np.array([x1.ravel(),x2.ravel()]).T).reshape(x1.shape),\n",
        "            alpha=0.75,cmap=ListedColormap(('red','green')))\n",
        "plt.xlim(x1.min(),x1.max())\n",
        "plt.ylim(x2.min(),x2.max())\n",
        "for i,j in enumerate(np.unique(y_set)):\n",
        "    plt.scatter(x_set[y_set==j,0],x_set[y_set==j,1],\n",
        "                c=ListedColormap(('red','green'))(i),label=j)\n",
        "plt.title('Logistic Regression(Training set)')\n",
        "plt.xlabel('Age')\n",
        "plt.ylabel('Estimated Salary')\n",
        "plt.legend()\n",
        "plt.show()    \n",
        "\n",
        "#Visualising the test set result\n",
        "\n",
        "from matplotlib.colors import ListedColormap\n",
        "x_set,y_set=X_test,Y_test\n",
        "x1,x2=np.meshgrid(np.arange(start=x_set[:,0].min()-1,stop=x_set[:,0].max()+1,step=0.01),\n",
        "                  np.arange(start=x_set[:,1].min()-1,stop=x_set[:,1].max()+1,step=0.01))\n",
        "plt.contourf(x1,x2,classifier.predict(np.array([x1.ravel(),x2.ravel()]).T).reshape(x1.shape),\n",
        "            alpha=0.75,cmap=ListedColormap(('red','green')))\n",
        "plt.xlim(x1.min(),x1.max())\n",
        "plt.ylim(x2.min(),x2.max())\n",
        "for i,j in enumerate(np.unique(y_set)):\n",
        "    plt.scatter(x_set[y_set==j,0],x_set[y_set==j,1],\n",
        "                c=ListedColormap(('red','green'))(i),label=j)\n",
        "plt.title('Logistic Regression(Test set)')\n",
        "plt.xlabel('Age')\n",
        "plt.ylabel('Estimated Salary')\n",
        "plt.legend()\n",
        "plt.show()"
      ],
      "execution_count": 34,
      "outputs": [
        {
          "output_type": "stream",
          "text": [
            "*c* argument looks like a single numeric RGB or RGBA sequence, which should be avoided as value-mapping will have precedence in case its length matches with *x* & *y*.  Please use the *color* keyword-argument or provide a 2-D array with a single row if you intend to specify the same RGB or RGBA value for all points.\n",
            "*c* argument looks like a single numeric RGB or RGBA sequence, which should be avoided as value-mapping will have precedence in case its length matches with *x* & *y*.  Please use the *color* keyword-argument or provide a 2-D array with a single row if you intend to specify the same RGB or RGBA value for all points.\n"
          ],
          "name": "stderr"
        },
        {
          "output_type": "display_data",
          "data": {
            "image/png": "[encoded data removed]",
            "text/plain": [
              "<Figure size 432x288 with 1 Axes>"
            ]
          },
          "metadata": {
            "tags": [],
            "needs_background": "light"
          }
        },
        {
          "output_type": "stream",
          "text": [
            "*c* argument looks like a single numeric RGB or RGBA sequence, which should be avoided as value-mapping will have precedence in case its length matches with *x* & *y*.  Please use the *color* keyword-argument or provide a 2-D array with a single row if you intend to specify the same RGB or RGBA value for all points.\n",
            "*c* argument looks like a single numeric RGB or RGBA sequence, which should be avoided as value-mapping will have precedence in case its length matches with *x* & *y*.  Please use the *color* keyword-argument or provide a 2-D array with a single row if you intend to specify the same RGB or RGBA value for all points.\n"
          ],
          "name": "stderr"
        },
        {
          "output_type": "display_data",
          "data": {
            "image/png": "[encoded data removed]",
            "text/plain": [
              "<Figure size 432x288 with 1 Axes>"
            ]
          },
          "metadata": {
            "tags": [],
            "needs_background": "light"
          }
        }
      ]
    },
    {
      "cell_type": "code",
      "metadata": {
        "id": "AiJYzmcjAO5i",
        "colab_type": "code",
        "colab": {
          "base_uri": "https://localhost:8080/",
          "height": 34
        },
        "outputId": "e414b6f3-0df2-48ca-ad27-97c7263e3aea"
      },
      "source": [
        "#XGBOOST\n",
        "import numpy as np\n",
        "import matplotlib.pyplot as plt\n",
        "import pandas as pd\n",
        "\n",
        "#import the dataset\n",
        "dataset=pd.read_csv(\"Churn_Modelling.csv\")\n",
        "X=dataset.iloc[:,3:13].values\n",
        "Y=dataset.iloc[:,13].values\n",
        "\n",
        "#ENCODE CATEGORICAL VARIABLE\n",
        "from sklearn.preprocessing import LabelEncoder\n",
        "labelencoder_x1=LabelEncoder()\n",
        "labelencoder_x2=LabelEncoder()\n",
        "X[:,1]=labelencoder_x1.fit_transform(X[:,1])\n",
        "X[:,2]=labelencoder_x2.fit_transform(X[:,2])\n",
        "from sklearn.preprocessing import OneHotEncoder\n",
        "from sklearn.compose import ColumnTransformer\n",
        "ct = ColumnTransformer([(\"Country\", OneHotEncoder(), [1])], remainder = 'passthrough')\n",
        "X = ct.fit_transform(X)\n",
        "X=X[:,1:]\n",
        "\n",
        "#Train Test split\n",
        "\n",
        "from sklearn.model_selection import train_test_split\n",
        "X_train,X_test,Y_train,Y_test=train_test_split(X,Y,test_size=0.2,random_state=0)\n",
        "\n",
        "#fitting XGBOOST in the training set\n",
        "from xgboost import XGBClassifier\n",
        "classifier=XGBClassifier()\n",
        "classifier.fit(X_train,Y_train)\n",
        "\n",
        "y_pred=classifier.predict(X_test)\n",
        "#Make the Confusion Matrix\n",
        "#to evaluate the model performance\n",
        "from sklearn.metrics import confusion_matrix\n",
        "cm=confusion_matrix(Y_test,y_pred)\n",
        "\n",
        "#accuracy\n",
        "from sklearn.model_selection import cross_val_score\n",
        "accracies=cross_val_score(estimator=classifier,X=X_train,y=Y_train,cv=10)\n",
        "#if you are working on a large dataset include n_jobs=-1 \n",
        "#that will use all of your cpus\n",
        "accracies.std()"
      ],
      "execution_count": 35,
      "outputs": [
        {
          "output_type": "execute_result",
          "data": {
            "text/plain": [
              "0.01017042280340401"
            ]
          },
          "metadata": {
            "tags": []
          },
          "execution_count": 35
        }
      ]
    },
    {
      "cell_type": "code",
      "metadata": {
        "id": "drBJf-nAAVPR",
        "colab_type": "code",
        "colab": {
          "base_uri": "https://localhost:8080/",
          "height": 34
        },
        "outputId": "8b62be28-a21e-42fb-fe6a-daf6c9f8b02e"
      },
      "source": [
        "accracies.mean()\n"
      ],
      "execution_count": 36,
      "outputs": [
        {
          "output_type": "execute_result",
          "data": {
            "text/plain": [
              "0.8625"
            ]
          },
          "metadata": {
            "tags": []
          },
          "execution_count": 36
        }
      ]
    },
    {
      "cell_type": "code",
      "metadata": {
        "id": "93kjv2NYATXA",
        "colab_type": "code",
        "colab": {
          "base_uri": "https://localhost:8080/",
          "height": 51
        },
        "outputId": "2f2b63a4-f3e3-4a9c-c2d7-64ef412aab5f"
      },
      "source": [
        "cm"
      ],
      "execution_count": 37,
      "outputs": [
        {
          "output_type": "execute_result",
          "data": {
            "text/plain": [
              "array([[1521,   74],\n",
              "       [ 197,  208]])"
            ]
          },
          "metadata": {
            "tags": []
          },
          "execution_count": 37
        }
      ]
    },
    {
      "cell_type": "code",
      "metadata": {
        "id": "eSZK7y4eAZ8C",
        "colab_type": "code",
        "colab": {}
      },
      "source": [
        ""
      ],
      "execution_count": null,
      "outputs": []
    }
  ]
}